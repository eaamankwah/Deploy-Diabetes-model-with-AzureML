{
 "cells": [
  {
   "cell_type": "markdown",
   "metadata": {},
   "source": [
    "# Automated ML\n",
    "\n",
    "TODO: Import Dependencies. In the cell below, import all the dependencies that you will need to complete the project."
   ]
  },
  {
   "cell_type": "code",
   "execution_count": 1,
   "metadata": {},
   "outputs": [],
   "source": [
    "#!pip install --upgrade azureml-automl-core"
   ]
  },
  {
   "cell_type": "code",
   "execution_count": 2,
   "metadata": {},
   "outputs": [],
   "source": [
    "#!pip install --upgrade azureml-sdk[automl]"
   ]
  },
  {
   "cell_type": "code",
   "execution_count": 3,
   "metadata": {},
   "outputs": [
    {
     "name": "stdout",
     "output_type": "stream",
     "text": [
      "SDK version: 1.20.0\n"
     ]
    }
   ],
   "source": [
    "# Check core SDK version number\n",
    "print(\"SDK version:\", azureml.core.VERSION)"
   ]
  },
  {
   "cell_type": "markdown",
   "metadata": {
    "gather": {
     "logged": 1598423888013
    },
    "jupyter": {
     "outputs_hidden": false,
     "source_hidden": false
    },
    "nteract": {
     "transient": {
      "deleting": false
     }
    }
   },
   "source": [
    "Import Libraries"
   ]
  },
  {
   "cell_type": "code",
   "execution_count": 4,
   "metadata": {},
   "outputs": [],
   "source": [
    "import logging\n",
    "import os\n",
    "import csv\n",
    "import pandas as pd\n",
    "import numpy as np\n",
    "import json\n",
    "import requests\n",
    "import joblib\n",
    "from sklearn.metrics import confusion_matrix\n",
    "import itertools\n",
    "\n",
    "from azureml.core import Dataset, Workspace, Experiment\n",
    "from azureml.core.compute import ComputeTarget, AmlCompute\n",
    "from azureml.core.compute_target import ComputeTargetException\n",
    "from azureml.widgets import RunDetails\n",
    "from azureml.train.automl import AutoMLConfig\n",
    "\n",
    "from azureml.core.model import InferenceConfig\n",
    "from azureml.core.webservice import AciWebservice, Webservice\n",
    "from azureml.core.model import Model\n",
    "from azureml.core.environment import Environment"
   ]
  },
  {
   "cell_type": "markdown",
   "metadata": {},
   "source": [
    "## Dataset\n",
    "\n",
    "### Overview\n",
    "TODO: In this markdown cell, give an overview of the dataset you are using. Also mention the task you will be performing.\n",
    "\n",
    "\n",
    "TODO: Get data. In the cell below, write code to access the data you will be using in this project. Remember that the dataset needs to be external."
   ]
  },
  {
   "cell_type": "markdown",
   "metadata": {},
   "source": [
    "The dataset obtained from Kaggle and was originally from the National Institute of Diabetes and Digestive and Kidney Diseases contain medical records of patients to predict the propensity of a patient having diabetes. Diabetes is a metabolic disease that causes high blood sugar over a prolong period of time. Some of the common symptoms include frequent urination, increased thirst and appetite (Wikipedia).\n",
    "\n",
    "The following medical features were used to predict whether a patient will be diabetic or not:\n",
    "1.\tPregnancies - Number of times pregnant\n",
    "2.\tGlucose - Plasma glucose concentration a 2 hours in an oral glucose tolerance test\n",
    "3.\tBlood pressure - Diastolic blood pressure (mm Hg)\n",
    "4.\tSkin thickness - Triceps skin fold thickness (mm)\n",
    "5.\tInsulin – 2 hour serum insulin (muU/ml)\n",
    "6.\tBMI – body mass index(weight in kg)/(height in m)^2\n",
    "7.\tDiabetes pedigree – diabetes pedigree function\n",
    "8.\tAge – age of patient (years) and \n",
    "9.\tOutcome – class variable (0 or 1) 268 of 768 are 1 and the others are 0.\n",
    "\n",
    "In this project, the azure automl was used to find the best model that will predict the outcome, whether a patient will have diabetes or not based on 9 medical records measured from each patient."
   ]
  },
  {
   "cell_type": "markdown",
   "metadata": {},
   "source": [
    "## Workspace setup"
   ]
  },
  {
   "cell_type": "code",
   "execution_count": 5,
   "metadata": {
    "gather": {
     "logged": 1598423890461
    },
    "jupyter": {
     "outputs_hidden": false,
     "source_hidden": false
    },
    "nteract": {
     "transient": {
      "deleting": false
     }
    }
   },
   "outputs": [
    {
     "data": {
      "text/html": [
       "<table style=\"width:100%\"><tr><th>Name</th><th>Workspace</th><th>Report Page</th><th>Docs Page</th></tr><tr><td>automl-diabetes-experiment</td><td>quick-starts-ws-136277</td><td><a href=\"https://ml.azure.com/experiments/automl-diabetes-experiment?wsid=/subscriptions/b968fb36-f06a-4c76-a15f-afab68ae7667/resourcegroups/aml-quickstarts-136277/workspaces/quick-starts-ws-136277\" target=\"_blank\" rel=\"noopener\">Link to Azure Machine Learning studio</a></td><td><a href=\"https://docs.microsoft.com/en-us/python/api/azureml-core/azureml.core.experiment.Experiment?view=azure-ml-py\" target=\"_blank\" rel=\"noopener\">Link to Documentation</a></td></tr></table>"
      ],
      "text/plain": [
       "Experiment(Name: automl-diabetes-experiment,\n",
       "Workspace: quick-starts-ws-136277)"
      ]
     },
     "execution_count": 5,
     "metadata": {},
     "output_type": "execute_result"
    }
   ],
   "source": [
    "ws = Workspace.from_config()\n",
    "\n",
    "# choose a name for experiment\n",
    "experiment_name = 'automl-diabetes-experiment'\n",
    "\n",
    "experiment=Experiment(ws, experiment_name)\n",
    "experiment"
   ]
  },
  {
   "cell_type": "code",
   "execution_count": 6,
   "metadata": {},
   "outputs": [
    {
     "name": "stdout",
     "output_type": "stream",
     "text": [
      "Workspace name: quick-starts-ws-136277\n",
      "Azure region: southcentralus\n",
      "Subscription id: b968fb36-f06a-4c76-a15f-afab68ae7667\n",
      "Resource group: aml-quickstarts-136277\n"
     ]
    }
   ],
   "source": [
    "print('Workspace name: ' + ws.name, \n",
    "      'Azure region: ' + ws.location, \n",
    "      'Subscription id: ' + ws.subscription_id, \n",
    "      'Resource group: ' + ws.resource_group, sep = '\\n')"
   ]
  },
  {
   "cell_type": "markdown",
   "metadata": {},
   "source": [
    "## Config Compute Cluster"
   ]
  },
  {
   "cell_type": "code",
   "execution_count": 7,
   "metadata": {},
   "outputs": [
    {
     "name": "stdout",
     "output_type": "stream",
     "text": [
      "Creating\n",
      "Succeeded\n",
      "AmlCompute wait for completion finished\n",
      "\n",
      "Minimum number of nodes requested have been provisioned\n"
     ]
    }
   ],
   "source": [
    "# create or attach an existing compute cluster\n",
    "cpu_cluster_name = \"cpu-cluster\"\n",
    "\n",
    "# Verify that cluster does not exist already\n",
    "try:\n",
    "    compute_target = ComputeTarget(workspace=ws, name=cpu_cluster_name)\n",
    "    print('Found existing cluster, use it.')\n",
    "except ComputeTargetException:\n",
    "    compute_config = AmlCompute.provisioning_configuration(vm_size='STANDARD_D12_V2',\n",
    "                                                           max_nodes=5)\n",
    "    compute_target = ComputeTarget.create(ws, cpu_cluster_name, compute_config)\n",
    "\n",
    "compute_target.wait_for_completion(show_output=True)"
   ]
  },
  {
   "cell_type": "markdown",
   "metadata": {},
   "source": [
    "## Data"
   ]
  },
  {
   "cell_type": "code",
   "execution_count": 8,
   "metadata": {},
   "outputs": [],
   "source": [
    "dataset = Dataset.get_by_name(ws, 'Diabetes-dataset')"
   ]
  },
  {
   "cell_type": "code",
   "execution_count": 9,
   "metadata": {},
   "outputs": [
    {
     "data": {
      "text/html": [
       "<div>\n",
       "<style scoped>\n",
       "    .dataframe tbody tr th:only-of-type {\n",
       "        vertical-align: middle;\n",
       "    }\n",
       "\n",
       "    .dataframe tbody tr th {\n",
       "        vertical-align: top;\n",
       "    }\n",
       "\n",
       "    .dataframe thead th {\n",
       "        text-align: right;\n",
       "    }\n",
       "</style>\n",
       "<table border=\"1\" class=\"dataframe\">\n",
       "  <thead>\n",
       "    <tr style=\"text-align: right;\">\n",
       "      <th></th>\n",
       "      <th>Pregnancies</th>\n",
       "      <th>Glucose</th>\n",
       "      <th>BloodPressure</th>\n",
       "      <th>SkinThickness</th>\n",
       "      <th>Insulin</th>\n",
       "      <th>BMI</th>\n",
       "      <th>DiabetesPedigreeFunction</th>\n",
       "      <th>Age</th>\n",
       "      <th>Outcome</th>\n",
       "    </tr>\n",
       "  </thead>\n",
       "  <tbody>\n",
       "    <tr>\n",
       "      <th>count</th>\n",
       "      <td>768.000000</td>\n",
       "      <td>768.000000</td>\n",
       "      <td>768.000000</td>\n",
       "      <td>768.000000</td>\n",
       "      <td>768.000000</td>\n",
       "      <td>768.000000</td>\n",
       "      <td>768.000000</td>\n",
       "      <td>768.000000</td>\n",
       "      <td>768.000000</td>\n",
       "    </tr>\n",
       "    <tr>\n",
       "      <th>mean</th>\n",
       "      <td>3.845052</td>\n",
       "      <td>120.894531</td>\n",
       "      <td>69.105469</td>\n",
       "      <td>20.536458</td>\n",
       "      <td>79.799479</td>\n",
       "      <td>31.992578</td>\n",
       "      <td>0.471876</td>\n",
       "      <td>33.240885</td>\n",
       "      <td>0.348958</td>\n",
       "    </tr>\n",
       "    <tr>\n",
       "      <th>std</th>\n",
       "      <td>3.369578</td>\n",
       "      <td>31.972618</td>\n",
       "      <td>19.355807</td>\n",
       "      <td>15.952218</td>\n",
       "      <td>115.244002</td>\n",
       "      <td>7.884160</td>\n",
       "      <td>0.331329</td>\n",
       "      <td>11.760232</td>\n",
       "      <td>0.476951</td>\n",
       "    </tr>\n",
       "    <tr>\n",
       "      <th>min</th>\n",
       "      <td>0.000000</td>\n",
       "      <td>0.000000</td>\n",
       "      <td>0.000000</td>\n",
       "      <td>0.000000</td>\n",
       "      <td>0.000000</td>\n",
       "      <td>0.000000</td>\n",
       "      <td>0.078000</td>\n",
       "      <td>21.000000</td>\n",
       "      <td>0.000000</td>\n",
       "    </tr>\n",
       "    <tr>\n",
       "      <th>25%</th>\n",
       "      <td>1.000000</td>\n",
       "      <td>99.000000</td>\n",
       "      <td>62.000000</td>\n",
       "      <td>0.000000</td>\n",
       "      <td>0.000000</td>\n",
       "      <td>27.300000</td>\n",
       "      <td>0.243750</td>\n",
       "      <td>24.000000</td>\n",
       "      <td>0.000000</td>\n",
       "    </tr>\n",
       "    <tr>\n",
       "      <th>50%</th>\n",
       "      <td>3.000000</td>\n",
       "      <td>117.000000</td>\n",
       "      <td>72.000000</td>\n",
       "      <td>23.000000</td>\n",
       "      <td>30.500000</td>\n",
       "      <td>32.000000</td>\n",
       "      <td>0.372500</td>\n",
       "      <td>29.000000</td>\n",
       "      <td>0.000000</td>\n",
       "    </tr>\n",
       "    <tr>\n",
       "      <th>75%</th>\n",
       "      <td>6.000000</td>\n",
       "      <td>140.250000</td>\n",
       "      <td>80.000000</td>\n",
       "      <td>32.000000</td>\n",
       "      <td>127.250000</td>\n",
       "      <td>36.600000</td>\n",
       "      <td>0.626250</td>\n",
       "      <td>41.000000</td>\n",
       "      <td>1.000000</td>\n",
       "    </tr>\n",
       "    <tr>\n",
       "      <th>max</th>\n",
       "      <td>17.000000</td>\n",
       "      <td>199.000000</td>\n",
       "      <td>122.000000</td>\n",
       "      <td>99.000000</td>\n",
       "      <td>846.000000</td>\n",
       "      <td>67.100000</td>\n",
       "      <td>2.420000</td>\n",
       "      <td>81.000000</td>\n",
       "      <td>1.000000</td>\n",
       "    </tr>\n",
       "  </tbody>\n",
       "</table>\n",
       "</div>"
      ],
      "text/plain": [
       "       Pregnancies     Glucose  BloodPressure  SkinThickness     Insulin  \\\n",
       "count   768.000000  768.000000     768.000000     768.000000  768.000000   \n",
       "mean      3.845052  120.894531      69.105469      20.536458   79.799479   \n",
       "std       3.369578   31.972618      19.355807      15.952218  115.244002   \n",
       "min       0.000000    0.000000       0.000000       0.000000    0.000000   \n",
       "25%       1.000000   99.000000      62.000000       0.000000    0.000000   \n",
       "50%       3.000000  117.000000      72.000000      23.000000   30.500000   \n",
       "75%       6.000000  140.250000      80.000000      32.000000  127.250000   \n",
       "max      17.000000  199.000000     122.000000      99.000000  846.000000   \n",
       "\n",
       "              BMI  DiabetesPedigreeFunction         Age     Outcome  \n",
       "count  768.000000                768.000000  768.000000  768.000000  \n",
       "mean    31.992578                  0.471876   33.240885    0.348958  \n",
       "std      7.884160                  0.331329   11.760232    0.476951  \n",
       "min      0.000000                  0.078000   21.000000    0.000000  \n",
       "25%     27.300000                  0.243750   24.000000    0.000000  \n",
       "50%     32.000000                  0.372500   29.000000    0.000000  \n",
       "75%     36.600000                  0.626250   41.000000    1.000000  \n",
       "max     67.100000                  2.420000   81.000000    1.000000  "
      ]
     },
     "execution_count": 9,
     "metadata": {},
     "output_type": "execute_result"
    }
   ],
   "source": [
    "df = dataset.to_pandas_dataframe()\n",
    "df.describe()"
   ]
  },
  {
   "cell_type": "markdown",
   "metadata": {},
   "source": [
    "### Review the Dataset Result\n",
    "\n",
    "You can peek the result of a TabularDataset at any range using skip(i) and take(j).to_pandas_dataframe(). Doing so evaluates only j records for all the steps in the TabularDataset, which makes it fast even against large datasets.\n",
    "\n",
    "TabularDataset objects are composed of a list of transformation steps (optional)."
   ]
  },
  {
   "cell_type": "code",
   "execution_count": 10,
   "metadata": {},
   "outputs": [
    {
     "data": {
      "text/html": [
       "<div>\n",
       "<style scoped>\n",
       "    .dataframe tbody tr th:only-of-type {\n",
       "        vertical-align: middle;\n",
       "    }\n",
       "\n",
       "    .dataframe tbody tr th {\n",
       "        vertical-align: top;\n",
       "    }\n",
       "\n",
       "    .dataframe thead th {\n",
       "        text-align: right;\n",
       "    }\n",
       "</style>\n",
       "<table border=\"1\" class=\"dataframe\">\n",
       "  <thead>\n",
       "    <tr style=\"text-align: right;\">\n",
       "      <th></th>\n",
       "      <th>Pregnancies</th>\n",
       "      <th>Glucose</th>\n",
       "      <th>BloodPressure</th>\n",
       "      <th>SkinThickness</th>\n",
       "      <th>Insulin</th>\n",
       "      <th>BMI</th>\n",
       "      <th>DiabetesPedigreeFunction</th>\n",
       "      <th>Age</th>\n",
       "      <th>Outcome</th>\n",
       "    </tr>\n",
       "  </thead>\n",
       "  <tbody>\n",
       "    <tr>\n",
       "      <th>0</th>\n",
       "      <td>6</td>\n",
       "      <td>148</td>\n",
       "      <td>72</td>\n",
       "      <td>35</td>\n",
       "      <td>0</td>\n",
       "      <td>33.6</td>\n",
       "      <td>0.627</td>\n",
       "      <td>50</td>\n",
       "      <td>1</td>\n",
       "    </tr>\n",
       "    <tr>\n",
       "      <th>1</th>\n",
       "      <td>1</td>\n",
       "      <td>85</td>\n",
       "      <td>66</td>\n",
       "      <td>29</td>\n",
       "      <td>0</td>\n",
       "      <td>26.6</td>\n",
       "      <td>0.351</td>\n",
       "      <td>31</td>\n",
       "      <td>0</td>\n",
       "    </tr>\n",
       "    <tr>\n",
       "      <th>2</th>\n",
       "      <td>8</td>\n",
       "      <td>183</td>\n",
       "      <td>64</td>\n",
       "      <td>0</td>\n",
       "      <td>0</td>\n",
       "      <td>23.3</td>\n",
       "      <td>0.672</td>\n",
       "      <td>32</td>\n",
       "      <td>1</td>\n",
       "    </tr>\n",
       "    <tr>\n",
       "      <th>3</th>\n",
       "      <td>1</td>\n",
       "      <td>89</td>\n",
       "      <td>66</td>\n",
       "      <td>23</td>\n",
       "      <td>94</td>\n",
       "      <td>28.1</td>\n",
       "      <td>0.167</td>\n",
       "      <td>21</td>\n",
       "      <td>0</td>\n",
       "    </tr>\n",
       "    <tr>\n",
       "      <th>4</th>\n",
       "      <td>0</td>\n",
       "      <td>137</td>\n",
       "      <td>40</td>\n",
       "      <td>35</td>\n",
       "      <td>168</td>\n",
       "      <td>43.1</td>\n",
       "      <td>2.288</td>\n",
       "      <td>33</td>\n",
       "      <td>1</td>\n",
       "    </tr>\n",
       "  </tbody>\n",
       "</table>\n",
       "</div>"
      ],
      "text/plain": [
       "   Pregnancies  Glucose  BloodPressure  SkinThickness  Insulin   BMI  \\\n",
       "0            6      148             72             35        0  33.6   \n",
       "1            1       85             66             29        0  26.6   \n",
       "2            8      183             64              0        0  23.3   \n",
       "3            1       89             66             23       94  28.1   \n",
       "4            0      137             40             35      168  43.1   \n",
       "\n",
       "   DiabetesPedigreeFunction  Age  Outcome  \n",
       "0                     0.627   50        1  \n",
       "1                     0.351   31        0  \n",
       "2                     0.672   32        1  \n",
       "3                     0.167   21        0  \n",
       "4                     2.288   33        1  "
      ]
     },
     "execution_count": 10,
     "metadata": {},
     "output_type": "execute_result"
    }
   ],
   "source": [
    "dataset.take(5).to_pandas_dataframe()"
   ]
  },
  {
   "cell_type": "code",
   "execution_count": 11,
   "metadata": {},
   "outputs": [],
   "source": [
    "train_data, test_data = dataset.random_split(0.9)"
   ]
  },
  {
   "cell_type": "markdown",
   "metadata": {},
   "source": [
    "## AutoML Configuration\n",
    "\n",
    "TODO: Explain why you chose the automl settings and cofiguration you used below."
   ]
  },
  {
   "cell_type": "code",
   "execution_count": 12,
   "metadata": {
    "gather": {
     "logged": 1598429217746
    },
    "jupyter": {
     "outputs_hidden": false,
     "source_hidden": false
    },
    "nteract": {
     "transient": {
      "deleting": false
     }
    }
   },
   "outputs": [],
   "source": [
    "# TODO: Put your automl settings here\n",
    "automl_settings = {\n",
    "    \"experiment_timeout_minutes\": 30,\n",
    "    \"max_concurrent_iterations\": 4,\n",
    "    \"primary_metric\" : 'accuracy',\n",
    "    \"n_cross_validations\": 5\n",
    "}\n",
    "\n",
    "# TODO: Put your automl config here\n",
    "automl_config = AutoMLConfig(compute_target=compute_target,\n",
    "                             task = \"classification\",\n",
    "                             training_data=train_data,\n",
    "                             label_column_name=\"Outcome\", \n",
    "                             enable_early_stopping= True,\n",
    "                             featurization= 'auto',\n",
    "                             **automl_settings\n",
    "                            )"
   ]
  },
  {
   "cell_type": "code",
   "execution_count": 13,
   "metadata": {
    "gather": {
     "logged": 1598431107951
    },
    "jupyter": {
     "outputs_hidden": false,
     "source_hidden": false
    },
    "nteract": {
     "transient": {
      "deleting": false
     }
    }
   },
   "outputs": [
    {
     "name": "stdout",
     "output_type": "stream",
     "text": [
      "Running on remote.\n",
      "No run_configuration provided, running on cpu-cluster with default configuration\n",
      "Running on remote compute: cpu-cluster\n",
      "Parent Run ID: AutoML_6d887152-79c9-442a-a385-9472117cfed6\n",
      "\n",
      "Current status: FeaturesGeneration. Generating features for the dataset.\n",
      "Current status: DatasetCrossValidationSplit. Generating individually featurized CV splits.\n",
      "Current status: ModelSelection. Beginning model selection.\n",
      "\n",
      "****************************************************************************************************\n",
      "DATA GUARDRAILS: \n",
      "\n",
      "TYPE:         Class balancing detection\n",
      "STATUS:       PASSED\n",
      "DESCRIPTION:  Your inputs were analyzed, and all classes are balanced in your training data.\n",
      "              Learn more about imbalanced data: https://aka.ms/AutomatedMLImbalancedData\n",
      "\n",
      "****************************************************************************************************\n",
      "\n",
      "TYPE:         Missing feature values imputation\n",
      "STATUS:       PASSED\n",
      "DESCRIPTION:  No feature missing values were detected in the training data.\n",
      "              Learn more about missing value imputation: https://aka.ms/AutomatedMLFeaturization\n",
      "\n",
      "****************************************************************************************************\n",
      "\n",
      "TYPE:         High cardinality feature detection\n",
      "STATUS:       PASSED\n",
      "DESCRIPTION:  Your inputs were analyzed, and no high cardinality features were detected.\n",
      "              Learn more about high cardinality feature handling: https://aka.ms/AutomatedMLFeaturization\n",
      "\n",
      "****************************************************************************************************\n",
      "\n",
      "****************************************************************************************************\n",
      "ITERATION: The iteration being evaluated.\n",
      "PIPELINE: A summary description of the pipeline being evaluated.\n",
      "DURATION: Time taken for the current iteration.\n",
      "METRIC: The result of computing score on the fitted pipeline.\n",
      "BEST: The best observed score thus far.\n",
      "****************************************************************************************************\n",
      "\n",
      " ITERATION   PIPELINE                                       DURATION      METRIC      BEST\n",
      "         0   MaxAbsScaler LightGBM                          0:00:50       0.7355    0.7355\n",
      "         2   MaxAbsScaler RandomForest                      0:00:50       0.7548    0.7548\n",
      "         3   MaxAbsScaler RandomForest                      0:00:46       0.7325    0.7548\n",
      "         1   MaxAbsScaler XGBoostClassifier                 0:00:50       0.7711    0.7711\n",
      "         7   SparseNormalizer XGBoostClassifier             0:00:46       0.7087    0.7711\n",
      "         8   SparseNormalizer XGBoostClassifier             0:00:49       0.6537    0.7711\n",
      "         4   MaxAbsScaler RandomForest                      0:02:17       0.7429    0.7711\n",
      "         5   MaxAbsScaler RandomForest                      0:02:25       0.7072    0.7711\n",
      "         6   SparseNormalizer XGBoostClassifier             0:02:25       0.7161    0.7711\n",
      "         9   MaxAbsScaler GradientBoosting                  0:00:43       0.7622    0.7711\n",
      "        10   MaxAbsScaler RandomForest                      0:01:04       0.6656    0.7711\n",
      "        11   MaxAbsScaler LightGBM                          0:00:49       0.7384    0.7711\n",
      "        12   MaxAbsScaler LogisticRegression                0:00:58       0.7459    0.7711\n",
      "        13   MaxAbsScaler LightGBM                          0:00:45       0.7503    0.7711\n",
      "        14   StandardScalerWrapper LogisticRegression       0:00:50       0.7459    0.7711\n",
      "        15   MaxAbsScaler LogisticRegression                0:00:49       0.7652    0.7711\n",
      "        16   SparseNormalizer LightGBM                      0:00:39       0.6641    0.7711\n",
      "        17   StandardScalerWrapper LightGBM                 0:00:46       0.7324    0.7711\n",
      "        18   StandardScalerWrapper GradientBoosting         0:00:46       0.7681    0.7711\n",
      "        19   SparseNormalizer RandomForest                  0:00:43       0.6938    0.7711\n",
      "        20   SparseNormalizer XGBoostClassifier             0:00:43       0.7161    0.7711\n",
      "        21   MaxAbsScaler ExtremeRandomTrees                0:00:43       0.7414    0.7711\n",
      "        22   SparseNormalizer LightGBM                      0:00:43       0.6850    0.7711\n",
      "        23   StandardScalerWrapper XGBoostClassifier        0:00:43       0.7607    0.7711\n",
      "        24   SparseNormalizer XGBoostClassifier             0:00:49       0.6983    0.7711\n",
      "        25   TruncatedSVDWrapper XGBoostClassifier          0:00:48       0.7191    0.7711\n",
      "        26   MaxAbsScaler LightGBM                          0:00:49       0.7488    0.7711\n",
      "        27   MaxAbsScaler ExtremeRandomTrees                0:00:44       0.7235    0.7711\n",
      "        28   SparseNormalizer XGBoostClassifier             0:00:46       0.7012    0.7711\n",
      "        29   StandardScalerWrapper ExtremeRandomTrees       0:00:51       0.6552    0.7711\n",
      "        30   TruncatedSVDWrapper XGBoostClassifier          0:00:48       0.6478    0.7711\n",
      "        31   SparseNormalizer XGBoostClassifier             0:00:45       0.6997    0.7711\n",
      "        32   SparseNormalizer XGBoostClassifier             0:00:50       0.7190    0.7711\n",
      "        33   SparseNormalizer LightGBM                      0:00:33       0.6790    0.7711\n",
      "        34                                                  0:00:08          nan    0.7711\n",
      "        35                                                  0:00:17          nan    0.7711\n",
      "        36    VotingEnsemble                                0:01:28       0.7860    0.7860\n",
      "        37    StackEnsemble                                 0:01:29       0.7652    0.7860\n"
     ]
    }
   ],
   "source": [
    "# TODO: Submit your experiment\n",
    "remote_run = experiment.submit(automl_config, show_output = True)"
   ]
  },
  {
   "cell_type": "markdown",
   "metadata": {},
   "source": [
    "## Run Details\n",
    "\n",
    "OPTIONAL: Write about the different models trained and their performance. Why do you think some models did better than others?\n",
    "\n",
    "TODO: In the cell below, use the `RunDetails` widget to show the different experiments."
   ]
  },
  {
   "cell_type": "code",
   "execution_count": 14,
   "metadata": {
    "gather": {
     "logged": 1598431121770
    },
    "jupyter": {
     "outputs_hidden": false,
     "source_hidden": false
    },
    "nteract": {
     "transient": {
      "deleting": false
     }
    }
   },
   "outputs": [
    {
     "data": {
      "text/html": [
       "<table style=\"width:100%\"><tr><th>Experiment</th><th>Id</th><th>Type</th><th>Status</th><th>Details Page</th><th>Docs Page</th></tr><tr><td>automl-diabetes-experiment</td><td>AutoML_6d887152-79c9-442a-a385-9472117cfed6</td><td>automl</td><td>Completed</td><td><a href=\"https://ml.azure.com/experiments/automl-diabetes-experiment/runs/AutoML_6d887152-79c9-442a-a385-9472117cfed6?wsid=/subscriptions/b968fb36-f06a-4c76-a15f-afab68ae7667/resourcegroups/aml-quickstarts-136277/workspaces/quick-starts-ws-136277\" target=\"_blank\" rel=\"noopener\">Link to Azure Machine Learning studio</a></td><td><a href=\"https://docs.microsoft.com/en-us/python/api/overview/azure/ml/intro?view=azure-ml-py\" target=\"_blank\" rel=\"noopener\">Link to Documentation</a></td></tr></table>"
      ],
      "text/plain": [
       "Run(Experiment: automl-diabetes-experiment,\n",
       "Id: AutoML_6d887152-79c9-442a-a385-9472117cfed6,\n",
       "Type: automl,\n",
       "Status: Completed)"
      ]
     },
     "execution_count": 14,
     "metadata": {},
     "output_type": "execute_result"
    }
   ],
   "source": [
    "remote_run"
   ]
  },
  {
   "cell_type": "code",
   "execution_count": 15,
   "metadata": {},
   "outputs": [
    {
     "data": {
      "application/vnd.jupyter.widget-view+json": {
       "model_id": "b107da2a9e7c4f8893214df30626de8b",
       "version_major": 2,
       "version_minor": 0
      },
      "text/plain": [
       "_AutoMLWidget(widget_settings={'childWidgetDisplay': 'popup', 'send_telemetry': False, 'log_level': 'INFO', 's…"
      ]
     },
     "metadata": {},
     "output_type": "display_data"
    },
    {
     "data": {
      "application/aml.mini.widget.v1": "{\"status\": \"Completed\", \"workbench_run_details_uri\": \"https://ml.azure.com/experiments/automl-diabetes-experiment/runs/AutoML_6d887152-79c9-442a-a385-9472117cfed6?wsid=/subscriptions/b968fb36-f06a-4c76-a15f-afab68ae7667/resourcegroups/aml-quickstarts-136277/workspaces/quick-starts-ws-136277\", \"run_id\": \"AutoML_6d887152-79c9-442a-a385-9472117cfed6\", \"run_properties\": {\"run_id\": \"AutoML_6d887152-79c9-442a-a385-9472117cfed6\", \"created_utc\": \"2021-01-27T15:44:14.772909Z\", \"properties\": {\"num_iterations\": \"1000\", \"training_type\": \"TrainFull\", \"acquisition_function\": \"EI\", \"primary_metric\": \"accuracy\", \"train_split\": \"0\", \"acquisition_parameter\": \"0\", \"num_cross_validation\": \"5\", \"target\": \"cpu-cluster\", \"AMLSettingsJsonString\": \"{\\\"path\\\":null,\\\"name\\\":\\\"automl-diabetes-experiment\\\",\\\"subscription_id\\\":\\\"b968fb36-f06a-4c76-a15f-afab68ae7667\\\",\\\"resource_group\\\":\\\"aml-quickstarts-136277\\\",\\\"workspace_name\\\":\\\"quick-starts-ws-136277\\\",\\\"region\\\":\\\"southcentralus\\\",\\\"compute_target\\\":\\\"cpu-cluster\\\",\\\"spark_service\\\":null,\\\"azure_service\\\":\\\"remote\\\",\\\"many_models\\\":false,\\\"pipeline_fetch_max_batch_size\\\":1,\\\"iterations\\\":1000,\\\"primary_metric\\\":\\\"accuracy\\\",\\\"task_type\\\":\\\"classification\\\",\\\"data_script\\\":null,\\\"validation_size\\\":0.0,\\\"n_cross_validations\\\":5,\\\"y_min\\\":null,\\\"y_max\\\":null,\\\"num_classes\\\":null,\\\"featurization\\\":\\\"auto\\\",\\\"_ignore_package_version_incompatibilities\\\":false,\\\"is_timeseries\\\":false,\\\"max_cores_per_iteration\\\":1,\\\"max_concurrent_iterations\\\":4,\\\"iteration_timeout_minutes\\\":null,\\\"mem_in_mb\\\":null,\\\"enforce_time_on_windows\\\":false,\\\"experiment_timeout_minutes\\\":30,\\\"experiment_exit_score\\\":null,\\\"whitelist_models\\\":null,\\\"blacklist_algos\\\":[\\\"TensorFlowLinearClassifier\\\",\\\"TensorFlowDNN\\\"],\\\"supported_models\\\":[\\\"TensorFlowLinearClassifier\\\",\\\"XGBoostClassifier\\\",\\\"KNN\\\",\\\"RandomForest\\\",\\\"BernoulliNaiveBayes\\\",\\\"LightGBM\\\",\\\"SVM\\\",\\\"SGD\\\",\\\"TensorFlowDNN\\\",\\\"LinearSVM\\\",\\\"AveragedPerceptronClassifier\\\",\\\"DecisionTree\\\",\\\"ExtremeRandomTrees\\\",\\\"GradientBoosting\\\",\\\"MultinomialNaiveBayes\\\",\\\"LogisticRegression\\\"],\\\"auto_blacklist\\\":true,\\\"blacklist_samples_reached\\\":false,\\\"exclude_nan_labels\\\":true,\\\"verbosity\\\":20,\\\"_debug_log\\\":\\\"azureml_automl.log\\\",\\\"show_warnings\\\":false,\\\"model_explainability\\\":true,\\\"service_url\\\":null,\\\"sdk_url\\\":null,\\\"sdk_packages\\\":null,\\\"enable_onnx_compatible_models\\\":false,\\\"enable_split_onnx_featurizer_estimator_models\\\":false,\\\"vm_type\\\":\\\"STANDARD_D12_V2\\\",\\\"telemetry_verbosity\\\":20,\\\"send_telemetry\\\":true,\\\"enable_dnn\\\":false,\\\"scenario\\\":\\\"SDK-1.13.0\\\",\\\"environment_label\\\":null,\\\"force_text_dnn\\\":false,\\\"enable_feature_sweeping\\\":true,\\\"enable_early_stopping\\\":true,\\\"early_stopping_n_iters\\\":10,\\\"metrics\\\":null,\\\"enable_ensembling\\\":true,\\\"enable_stack_ensembling\\\":true,\\\"ensemble_iterations\\\":15,\\\"enable_tf\\\":false,\\\"enable_subsampling\\\":null,\\\"subsample_seed\\\":null,\\\"enable_nimbusml\\\":false,\\\"enable_streaming\\\":false,\\\"force_streaming\\\":false,\\\"track_child_runs\\\":true,\\\"allowed_private_models\\\":[],\\\"label_column_name\\\":\\\"Outcome\\\",\\\"weight_column_name\\\":null,\\\"cv_split_column_names\\\":null,\\\"enable_local_managed\\\":false,\\\"_local_managed_run_id\\\":null,\\\"cost_mode\\\":1,\\\"lag_length\\\":0,\\\"metric_operation\\\":\\\"maximize\\\",\\\"preprocess\\\":true}\", \"DataPrepJsonString\": \"{\\\\\\\"training_data\\\\\\\": \\\\\\\"{\\\\\\\\\\\\\\\"blocks\\\\\\\\\\\\\\\": [{\\\\\\\\\\\\\\\"id\\\\\\\\\\\\\\\": \\\\\\\\\\\\\\\"6d336b5b-ac50-4ce4-88a5-24b56b6463f1\\\\\\\\\\\\\\\", \\\\\\\\\\\\\\\"type\\\\\\\\\\\\\\\": \\\\\\\\\\\\\\\"Microsoft.DPrep.GetDatastoreFilesBlock\\\\\\\\\\\\\\\", \\\\\\\\\\\\\\\"arguments\\\\\\\\\\\\\\\": {\\\\\\\\\\\\\\\"datastores\\\\\\\\\\\\\\\": [{\\\\\\\\\\\\\\\"datastoreName\\\\\\\\\\\\\\\": \\\\\\\\\\\\\\\"workspaceblobstore\\\\\\\\\\\\\\\", \\\\\\\\\\\\\\\"path\\\\\\\\\\\\\\\": \\\\\\\\\\\\\\\"UI/01-27-2021_034209_UTC/diabetes.csv\\\\\\\\\\\\\\\", \\\\\\\\\\\\\\\"resourceGroup\\\\\\\\\\\\\\\": \\\\\\\\\\\\\\\"aml-quickstarts-136277\\\\\\\\\\\\\\\", \\\\\\\\\\\\\\\"subscription\\\\\\\\\\\\\\\": \\\\\\\\\\\\\\\"b968fb36-f06a-4c76-a15f-afab68ae7667\\\\\\\\\\\\\\\", \\\\\\\\\\\\\\\"workspaceName\\\\\\\\\\\\\\\": \\\\\\\\\\\\\\\"quick-starts-ws-136277\\\\\\\\\\\\\\\"}]}, \\\\\\\\\\\\\\\"localData\\\\\\\\\\\\\\\": {}, \\\\\\\\\\\\\\\"isEnabled\\\\\\\\\\\\\\\": true, \\\\\\\\\\\\\\\"name\\\\\\\\\\\\\\\": null, \\\\\\\\\\\\\\\"annotation\\\\\\\\\\\\\\\": null}, {\\\\\\\\\\\\\\\"id\\\\\\\\\\\\\\\": \\\\\\\\\\\\\\\"3f171a95-b892-480e-9cca-0cfa06f37db9\\\\\\\\\\\\\\\", \\\\\\\\\\\\\\\"type\\\\\\\\\\\\\\\": \\\\\\\\\\\\\\\"Microsoft.DPrep.ParseDelimitedBlock\\\\\\\\\\\\\\\", \\\\\\\\\\\\\\\"arguments\\\\\\\\\\\\\\\": {\\\\\\\\\\\\\\\"columnHeadersMode\\\\\\\\\\\\\\\": 1, \\\\\\\\\\\\\\\"fileEncoding\\\\\\\\\\\\\\\": 0, \\\\\\\\\\\\\\\"handleQuotedLineBreaks\\\\\\\\\\\\\\\": false, \\\\\\\\\\\\\\\"preview\\\\\\\\\\\\\\\": false, \\\\\\\\\\\\\\\"separator\\\\\\\\\\\\\\\": \\\\\\\\\\\\\\\",\\\\\\\\\\\\\\\", \\\\\\\\\\\\\\\"skipRows\\\\\\\\\\\\\\\": 0, \\\\\\\\\\\\\\\"skipRowsMode\\\\\\\\\\\\\\\": 0}, \\\\\\\\\\\\\\\"localData\\\\\\\\\\\\\\\": {}, \\\\\\\\\\\\\\\"isEnabled\\\\\\\\\\\\\\\": true, \\\\\\\\\\\\\\\"name\\\\\\\\\\\\\\\": null, \\\\\\\\\\\\\\\"annotation\\\\\\\\\\\\\\\": null}, {\\\\\\\\\\\\\\\"id\\\\\\\\\\\\\\\": \\\\\\\\\\\\\\\"56c2f1ca-9756-4066-9a50-c34b82ff0ace\\\\\\\\\\\\\\\", \\\\\\\\\\\\\\\"type\\\\\\\\\\\\\\\": \\\\\\\\\\\\\\\"Microsoft.DPrep.DropColumnsBlock\\\\\\\\\\\\\\\", \\\\\\\\\\\\\\\"arguments\\\\\\\\\\\\\\\": {\\\\\\\\\\\\\\\"columns\\\\\\\\\\\\\\\": {\\\\\\\\\\\\\\\"type\\\\\\\\\\\\\\\": 0, \\\\\\\\\\\\\\\"details\\\\\\\\\\\\\\\": {\\\\\\\\\\\\\\\"selectedColumns\\\\\\\\\\\\\\\": [\\\\\\\\\\\\\\\"Path\\\\\\\\\\\\\\\"]}}}, \\\\\\\\\\\\\\\"localData\\\\\\\\\\\\\\\": {}, \\\\\\\\\\\\\\\"isEnabled\\\\\\\\\\\\\\\": true, \\\\\\\\\\\\\\\"name\\\\\\\\\\\\\\\": null, \\\\\\\\\\\\\\\"annotation\\\\\\\\\\\\\\\": null}, {\\\\\\\\\\\\\\\"id\\\\\\\\\\\\\\\": \\\\\\\\\\\\\\\"1709933a-8dc6-47e9-a2cd-4717deb2f041\\\\\\\\\\\\\\\", \\\\\\\\\\\\\\\"type\\\\\\\\\\\\\\\": \\\\\\\\\\\\\\\"Microsoft.DPrep.SetColumnTypesBlock\\\\\\\\\\\\\\\", \\\\\\\\\\\\\\\"arguments\\\\\\\\\\\\\\\": {\\\\\\\\\\\\\\\"columnConversion\\\\\\\\\\\\\\\": [{\\\\\\\\\\\\\\\"column\\\\\\\\\\\\\\\": {\\\\\\\\\\\\\\\"type\\\\\\\\\\\\\\\": 2, \\\\\\\\\\\\\\\"details\\\\\\\\\\\\\\\": {\\\\\\\\\\\\\\\"selectedColumn\\\\\\\\\\\\\\\": \\\\\\\\\\\\\\\"Path\\\\\\\\\\\\\\\"}}, \\\\\\\\\\\\\\\"typeProperty\\\\\\\\\\\\\\\": 0}, {\\\\\\\\\\\\\\\"column\\\\\\\\\\\\\\\": {\\\\\\\\\\\\\\\"type\\\\\\\\\\\\\\\": 2, \\\\\\\\\\\\\\\"details\\\\\\\\\\\\\\\": {\\\\\\\\\\\\\\\"selectedColumn\\\\\\\\\\\\\\\": \\\\\\\\\\\\\\\"Pregnancies\\\\\\\\\\\\\\\"}}, \\\\\\\\\\\\\\\"typeProperty\\\\\\\\\\\\\\\": 2}, {\\\\\\\\\\\\\\\"column\\\\\\\\\\\\\\\": {\\\\\\\\\\\\\\\"type\\\\\\\\\\\\\\\": 2, \\\\\\\\\\\\\\\"details\\\\\\\\\\\\\\\": {\\\\\\\\\\\\\\\"selectedColumn\\\\\\\\\\\\\\\": \\\\\\\\\\\\\\\"Glucose\\\\\\\\\\\\\\\"}}, \\\\\\\\\\\\\\\"typeProperty\\\\\\\\\\\\\\\": 2}, {\\\\\\\\\\\\\\\"column\\\\\\\\\\\\\\\": {\\\\\\\\\\\\\\\"type\\\\\\\\\\\\\\\": 2, \\\\\\\\\\\\\\\"details\\\\\\\\\\\\\\\": {\\\\\\\\\\\\\\\"selectedColumn\\\\\\\\\\\\\\\": \\\\\\\\\\\\\\\"BloodPressure\\\\\\\\\\\\\\\"}}, \\\\\\\\\\\\\\\"typeProperty\\\\\\\\\\\\\\\": 2}, {\\\\\\\\\\\\\\\"column\\\\\\\\\\\\\\\": {\\\\\\\\\\\\\\\"type\\\\\\\\\\\\\\\": 2, \\\\\\\\\\\\\\\"details\\\\\\\\\\\\\\\": {\\\\\\\\\\\\\\\"selectedColumn\\\\\\\\\\\\\\\": \\\\\\\\\\\\\\\"SkinThickness\\\\\\\\\\\\\\\"}}, \\\\\\\\\\\\\\\"typeProperty\\\\\\\\\\\\\\\": 2}, {\\\\\\\\\\\\\\\"column\\\\\\\\\\\\\\\": {\\\\\\\\\\\\\\\"type\\\\\\\\\\\\\\\": 2, \\\\\\\\\\\\\\\"details\\\\\\\\\\\\\\\": {\\\\\\\\\\\\\\\"selectedColumn\\\\\\\\\\\\\\\": \\\\\\\\\\\\\\\"Insulin\\\\\\\\\\\\\\\"}}, \\\\\\\\\\\\\\\"typeProperty\\\\\\\\\\\\\\\": 2}, {\\\\\\\\\\\\\\\"column\\\\\\\\\\\\\\\": {\\\\\\\\\\\\\\\"type\\\\\\\\\\\\\\\": 2, \\\\\\\\\\\\\\\"details\\\\\\\\\\\\\\\": {\\\\\\\\\\\\\\\"selectedColumn\\\\\\\\\\\\\\\": \\\\\\\\\\\\\\\"BMI\\\\\\\\\\\\\\\"}}, \\\\\\\\\\\\\\\"typeProperty\\\\\\\\\\\\\\\": 3}, {\\\\\\\\\\\\\\\"column\\\\\\\\\\\\\\\": {\\\\\\\\\\\\\\\"type\\\\\\\\\\\\\\\": 2, \\\\\\\\\\\\\\\"details\\\\\\\\\\\\\\\": {\\\\\\\\\\\\\\\"selectedColumn\\\\\\\\\\\\\\\": \\\\\\\\\\\\\\\"DiabetesPedigreeFunction\\\\\\\\\\\\\\\"}}, \\\\\\\\\\\\\\\"typeProperty\\\\\\\\\\\\\\\": 3}, {\\\\\\\\\\\\\\\"column\\\\\\\\\\\\\\\": {\\\\\\\\\\\\\\\"type\\\\\\\\\\\\\\\": 2, \\\\\\\\\\\\\\\"details\\\\\\\\\\\\\\\": {\\\\\\\\\\\\\\\"selectedColumn\\\\\\\\\\\\\\\": \\\\\\\\\\\\\\\"Age\\\\\\\\\\\\\\\"}}, \\\\\\\\\\\\\\\"typeProperty\\\\\\\\\\\\\\\": 2}, {\\\\\\\\\\\\\\\"column\\\\\\\\\\\\\\\": {\\\\\\\\\\\\\\\"type\\\\\\\\\\\\\\\": 2, \\\\\\\\\\\\\\\"details\\\\\\\\\\\\\\\": {\\\\\\\\\\\\\\\"selectedColumn\\\\\\\\\\\\\\\": \\\\\\\\\\\\\\\"Outcome\\\\\\\\\\\\\\\"}}, \\\\\\\\\\\\\\\"typeProperty\\\\\\\\\\\\\\\": 2}]}, \\\\\\\\\\\\\\\"localData\\\\\\\\\\\\\\\": {}, \\\\\\\\\\\\\\\"isEnabled\\\\\\\\\\\\\\\": true, \\\\\\\\\\\\\\\"name\\\\\\\\\\\\\\\": null, \\\\\\\\\\\\\\\"annotation\\\\\\\\\\\\\\\": null}, {\\\\\\\\\\\\\\\"id\\\\\\\\\\\\\\\": \\\\\\\\\\\\\\\"465cbc6d-cc33-4af5-8a72-582f136cb4e6\\\\\\\\\\\\\\\", \\\\\\\\\\\\\\\"type\\\\\\\\\\\\\\\": \\\\\\\\\\\\\\\"Microsoft.DPrep.TakeSampleBlock\\\\\\\\\\\\\\\", \\\\\\\\\\\\\\\"arguments\\\\\\\\\\\\\\\": {\\\\\\\\\\\\\\\"probability\\\\\\\\\\\\\\\": 0.9, \\\\\\\\\\\\\\\"probabilityLowerBound\\\\\\\\\\\\\\\": 0.0, \\\\\\\\\\\\\\\"seed\\\\\\\\\\\\\\\": 880188903}, \\\\\\\\\\\\\\\"localData\\\\\\\\\\\\\\\": {}, \\\\\\\\\\\\\\\"isEnabled\\\\\\\\\\\\\\\": true, \\\\\\\\\\\\\\\"name\\\\\\\\\\\\\\\": null, \\\\\\\\\\\\\\\"annotation\\\\\\\\\\\\\\\": null}], \\\\\\\\\\\\\\\"inspectors\\\\\\\\\\\\\\\": [], \\\\\\\\\\\\\\\"meta\\\\\\\\\\\\\\\": {\\\\\\\\\\\\\\\"savedDatasetId\\\\\\\\\\\\\\\": \\\\\\\\\\\\\\\"a50aa439-5f25-4444-b7dd-8109fbee2503\\\\\\\\\\\\\\\", \\\\\\\\\\\\\\\"datasetType\\\\\\\\\\\\\\\": \\\\\\\\\\\\\\\"tabular\\\\\\\\\\\\\\\", \\\\\\\\\\\\\\\"subscriptionId\\\\\\\\\\\\\\\": \\\\\\\\\\\\\\\"b968fb36-f06a-4c76-a15f-afab68ae7667\\\\\\\\\\\\\\\", \\\\\\\\\\\\\\\"workspaceId\\\\\\\\\\\\\\\": \\\\\\\\\\\\\\\"1f7fa867-27b2-420a-9dec-5cdf6d554e6f\\\\\\\\\\\\\\\", \\\\\\\\\\\\\\\"workspaceLocation\\\\\\\\\\\\\\\": \\\\\\\\\\\\\\\"southcentralus\\\\\\\\\\\\\\\"}}\\\\\\\", \\\\\\\"activities\\\\\\\": 0}\", \"EnableSubsampling\": null, \"runTemplate\": \"AutoML\", \"azureml.runsource\": \"automl\", \"display_task_type\": \"classification\", \"dependencies_versions\": \"{\\\"azureml-widgets\\\": \\\"1.20.0\\\", \\\"azureml-train\\\": \\\"1.20.0\\\", \\\"azureml-train-restclients-hyperdrive\\\": \\\"1.20.0\\\", \\\"azureml-train-core\\\": \\\"1.20.0\\\", \\\"azureml-train-automl\\\": \\\"1.20.0\\\", \\\"azureml-train-automl-runtime\\\": \\\"1.20.0\\\", \\\"azureml-train-automl-client\\\": \\\"1.20.0\\\", \\\"azureml-tensorboard\\\": \\\"1.20.0\\\", \\\"azureml-telemetry\\\": \\\"1.20.0\\\", \\\"azureml-sdk\\\": \\\"1.20.0\\\", \\\"azureml-samples\\\": \\\"0+unknown\\\", \\\"azureml-pipeline\\\": \\\"1.20.0\\\", \\\"azureml-pipeline-steps\\\": \\\"1.20.0\\\", \\\"azureml-pipeline-core\\\": \\\"1.20.0\\\", \\\"azureml-opendatasets\\\": \\\"1.20.0\\\", \\\"azureml-model-management-sdk\\\": \\\"1.0.1b6.post1\\\", \\\"azureml-mlflow\\\": \\\"1.20.0.post1\\\", \\\"azureml-interpret\\\": \\\"1.20.0\\\", \\\"azureml-explain-model\\\": \\\"1.20.0\\\", \\\"azureml-defaults\\\": \\\"1.20.0\\\", \\\"azureml-dataset-runtime\\\": \\\"1.20.0\\\", \\\"azureml-dataprep\\\": \\\"2.7.3\\\", \\\"azureml-dataprep-rslex\\\": \\\"1.5.0\\\", \\\"azureml-dataprep-native\\\": \\\"27.0.0\\\", \\\"azureml-datadrift\\\": \\\"1.20.0\\\", \\\"azureml-core\\\": \\\"1.20.0\\\", \\\"azureml-contrib-services\\\": \\\"1.20.0\\\", \\\"azureml-contrib-server\\\": \\\"1.20.0\\\", \\\"azureml-contrib-reinforcementlearning\\\": \\\"1.20.0\\\", \\\"azureml-contrib-pipeline-steps\\\": \\\"1.20.0\\\", \\\"azureml-contrib-notebook\\\": \\\"1.20.0\\\", \\\"azureml-contrib-interpret\\\": \\\"1.20.0\\\", \\\"azureml-contrib-gbdt\\\": \\\"1.20.0\\\", \\\"azureml-contrib-fairness\\\": \\\"1.20.0\\\", \\\"azureml-contrib-dataset\\\": \\\"1.20.0\\\", \\\"azureml-cli-common\\\": \\\"1.20.0\\\", \\\"azureml-automl-runtime\\\": \\\"1.20.0\\\", \\\"azureml-automl-core\\\": \\\"1.20.0\\\", \\\"azureml-accel-models\\\": \\\"1.20.0\\\"}\", \"_aml_system_scenario_identification\": \"Remote.Parent\", \"ClientType\": \"SDK\", \"environment_cpu_name\": \"AzureML-AutoML\", \"environment_cpu_label\": \"prod\", \"environment_gpu_name\": \"AzureML-AutoML-GPU\", \"environment_gpu_label\": \"prod\", \"root_attribution\": \"automl\", \"attribution\": \"AutoML\", \"Orchestrator\": \"AutoML\", \"CancelUri\": \"https://southcentralus.experiments.azureml.net/jasmine/v1.0/subscriptions/b968fb36-f06a-4c76-a15f-afab68ae7667/resourceGroups/aml-quickstarts-136277/providers/Microsoft.MachineLearningServices/workspaces/quick-starts-ws-136277/experimentids/413910bb-c612-4734-a9d3-35076a1211ce/cancel/AutoML_6d887152-79c9-442a-a385-9472117cfed6\", \"ClientSdkVersion\": \"1.20.0.post1\", \"snapshotId\": \"00000000-0000-0000-0000-000000000000\", \"SetupRunId\": \"AutoML_6d887152-79c9-442a-a385-9472117cfed6_setup\", \"SetupRunContainerId\": \"dcid.AutoML_6d887152-79c9-442a-a385-9472117cfed6_setup\", \"FeaturizationRunJsonPath\": \"featurizer_container.json\", \"FeaturizationRunId\": \"AutoML_6d887152-79c9-442a-a385-9472117cfed6_featurize\", \"ProblemInfoJsonString\": \"{\\\"dataset_num_categorical\\\": 0, \\\"is_sparse\\\": true, \\\"subsampling\\\": false, \\\"dataset_classes\\\": 2, \\\"dataset_features\\\": 24, \\\"dataset_samples\\\": 673, \\\"single_frequency_class_detected\\\": false}\", \"ModelExplainRunId\": \"AutoML_6d887152-79c9-442a-a385-9472117cfed6_ModelExplain\"}, \"tags\": {\"model_explain_run\": \"best_run\", \"_aml_system_azureml.automlComponent\": \"AutoML\", \"pipeline_id\": \"\", \"score\": \"\", \"predicted_cost\": \"\", \"fit_time\": \"\", \"training_percent\": \"\", \"iteration\": \"\", \"run_preprocessor\": \"\", \"run_algorithm\": \"\", \"dynamic_whitelisting_iterations\": \"<25>;<30>;<35>;\", \"automl_best_child_run_id\": \"AutoML_6d887152-79c9-442a-a385-9472117cfed6_36\", \"model_explain_best_run_child_id\": \"AutoML_6d887152-79c9-442a-a385-9472117cfed6_36\"}, \"end_time_utc\": \"2021-01-27T16:06:33.707523Z\", \"status\": \"Completed\", \"log_files\": {}, \"log_groups\": [], \"run_duration\": \"0:22:18\"}, \"child_runs\": [{\"run_id\": \"AutoML_6d887152-79c9-442a-a385-9472117cfed6_0\", \"run_number\": 5, \"metric\": null, \"status\": \"Completed\", \"run_type\": \"azureml.scriptrun\", \"training_percent\": \"100\", \"start_time\": \"2021-01-27T15:52:06.878406Z\", \"end_time\": \"2021-01-27T15:52:57.250878Z\", \"created_time\": \"2021-01-27T15:51:55.271929Z\", \"created_time_dt\": \"2021-01-27T15:51:55.271929Z\", \"duration\": \"0:01:01\", \"iteration\": \"0\", \"goal\": \"accuracy_max\", \"run_name\": \"MaxAbsScaler, LightGBM\", \"run_properties\": \"copy=True\", \"primary_metric\": 0.73551133, \"best_metric\": 0.73551133}, {\"run_id\": \"AutoML_6d887152-79c9-442a-a385-9472117cfed6_2\", \"run_number\": 6, \"metric\": null, \"status\": \"Completed\", \"run_type\": \"azureml.scriptrun\", \"training_percent\": \"100\", \"start_time\": \"2021-01-27T15:52:59.872962Z\", \"end_time\": \"2021-01-27T15:53:50.244884Z\", \"created_time\": \"2021-01-27T15:51:55.385197Z\", \"created_time_dt\": \"2021-01-27T15:51:55.385197Z\", \"duration\": \"0:01:54\", \"iteration\": \"2\", \"goal\": \"accuracy_max\", \"run_name\": \"MaxAbsScaler, RandomForest\", \"run_properties\": \"copy=True\", \"primary_metric\": 0.75482587, \"best_metric\": 0.77110006}, {\"run_id\": \"AutoML_6d887152-79c9-442a-a385-9472117cfed6_1\", \"run_number\": 7, \"metric\": null, \"status\": \"Completed\", \"run_type\": \"azureml.scriptrun\", \"training_percent\": \"100\", \"start_time\": \"2021-01-27T15:54:46.037992Z\", \"end_time\": \"2021-01-27T15:55:36.115323Z\", \"created_time\": \"2021-01-27T15:51:55.375941Z\", \"created_time_dt\": \"2021-01-27T15:51:55.375941Z\", \"duration\": \"0:03:40\", \"iteration\": \"1\", \"goal\": \"accuracy_max\", \"run_name\": \"MaxAbsScaler, XGBoostClassifier\", \"run_properties\": \"copy=True\", \"primary_metric\": 0.77110006, \"best_metric\": 0.77110006}, {\"run_id\": \"AutoML_6d887152-79c9-442a-a385-9472117cfed6_3\", \"run_number\": 8, \"metric\": null, \"status\": \"Completed\", \"run_type\": \"azureml.scriptrun\", \"training_percent\": \"100\", \"start_time\": \"2021-01-27T15:53:54.600047Z\", \"end_time\": \"2021-01-27T15:54:40.611038Z\", \"created_time\": \"2021-01-27T15:51:55.437024Z\", \"created_time_dt\": \"2021-01-27T15:51:55.437024Z\", \"duration\": \"0:02:45\", \"iteration\": \"3\", \"goal\": \"accuracy_max\", \"run_name\": \"MaxAbsScaler, RandomForest\", \"run_properties\": \"copy=True\", \"primary_metric\": 0.73252626, \"best_metric\": 0.77110006}, {\"run_id\": \"AutoML_6d887152-79c9-442a-a385-9472117cfed6_4\", \"run_number\": 9, \"metric\": null, \"status\": \"Completed\", \"run_type\": \"azureml.scriptrun\", \"training_percent\": \"100\", \"start_time\": \"2021-01-27T15:55:29.399029Z\", \"end_time\": \"2021-01-27T15:57:46.013438Z\", \"created_time\": \"2021-01-27T15:53:00.279793Z\", \"created_time_dt\": \"2021-01-27T15:53:00.279793Z\", \"duration\": \"0:04:45\", \"iteration\": \"4\", \"goal\": \"accuracy_max\", \"run_name\": \"MaxAbsScaler, RandomForest\", \"run_properties\": \"copy=True\", \"primary_metric\": 0.74290768, \"best_metric\": 0.77110006}, {\"run_id\": \"AutoML_6d887152-79c9-442a-a385-9472117cfed6_5\", \"run_number\": 10, \"metric\": null, \"status\": \"Completed\", \"run_type\": \"azureml.scriptrun\", \"training_percent\": \"100\", \"start_time\": \"2021-01-27T15:55:32.195303Z\", \"end_time\": \"2021-01-27T15:57:57.606434Z\", \"created_time\": \"2021-01-27T15:53:53.223789Z\", \"created_time_dt\": \"2021-01-27T15:53:53.223789Z\", \"duration\": \"0:04:04\", \"iteration\": \"5\", \"goal\": \"accuracy_max\", \"run_name\": \"MaxAbsScaler, RandomForest\", \"run_properties\": \"copy=True\", \"primary_metric\": 0.70724157, \"best_metric\": 0.77110006}, {\"run_id\": \"AutoML_6d887152-79c9-442a-a385-9472117cfed6_6\", \"run_number\": 11, \"metric\": null, \"status\": \"Completed\", \"run_type\": \"azureml.scriptrun\", \"training_percent\": \"100\", \"start_time\": \"2021-01-27T15:55:32.17515Z\", \"end_time\": \"2021-01-27T15:57:57.46203Z\", \"created_time\": \"2021-01-27T15:54:43.394098Z\", \"created_time_dt\": \"2021-01-27T15:54:43.394098Z\", \"duration\": \"0:03:14\", \"iteration\": \"6\", \"goal\": \"accuracy_max\", \"run_name\": \"SparseNormalizer, XGBoostClassifier\", \"run_properties\": \"<azureml.automl.runtime.shared.model_wrappers.SparseNormalizer object at 0x7f42c83c8a90\", \"primary_metric\": 0.71608624, \"best_metric\": 0.77110006}, {\"run_id\": \"AutoML_6d887152-79c9-442a-a385-9472117cfed6_7\", \"run_number\": 12, \"metric\": null, \"status\": \"Completed\", \"run_type\": \"azureml.scriptrun\", \"training_percent\": \"100\", \"start_time\": \"2021-01-27T15:55:52.377287Z\", \"end_time\": \"2021-01-27T15:56:38.08452Z\", \"created_time\": \"2021-01-27T15:55:39.079391Z\", \"created_time_dt\": \"2021-01-27T15:55:39.079391Z\", \"duration\": \"0:00:59\", \"iteration\": \"7\", \"goal\": \"accuracy_max\", \"run_name\": \"SparseNormalizer, XGBoostClassifier\", \"run_properties\": \"<azureml.automl.runtime.shared.model_wrappers.SparseNormalizer object at 0x7fba05cedeb8\", \"primary_metric\": 0.70868988, \"best_metric\": 0.77110006}, {\"run_id\": \"AutoML_6d887152-79c9-442a-a385-9472117cfed6_8\", \"run_number\": 13, \"metric\": null, \"status\": \"Completed\", \"run_type\": \"azureml.scriptrun\", \"training_percent\": \"100\", \"start_time\": \"2021-01-27T15:56:54.480647Z\", \"end_time\": \"2021-01-27T15:57:43.468285Z\", \"created_time\": \"2021-01-27T15:56:40.732131Z\", \"created_time_dt\": \"2021-01-27T15:56:40.732131Z\", \"duration\": \"0:01:02\", \"iteration\": \"8\", \"goal\": \"accuracy_max\", \"run_name\": \"SparseNormalizer, XGBoostClassifier\", \"run_properties\": \"<azureml.automl.runtime.shared.model_wrappers.SparseNormalizer object at 0x7ff186c6e7f0\", \"primary_metric\": 0.65373134, \"best_metric\": 0.77110006}, {\"run_id\": \"AutoML_6d887152-79c9-442a-a385-9472117cfed6_9\", \"run_number\": 14, \"metric\": null, \"status\": \"Completed\", \"run_type\": \"azureml.scriptrun\", \"training_percent\": \"100\", \"start_time\": \"2021-01-27T15:57:59.165493Z\", \"end_time\": \"2021-01-27T15:58:42.07253Z\", \"created_time\": \"2021-01-27T15:57:46.22901Z\", \"created_time_dt\": \"2021-01-27T15:57:46.22901Z\", \"duration\": \"0:00:55\", \"iteration\": \"9\", \"goal\": \"accuracy_max\", \"run_name\": \"MaxAbsScaler, GradientBoosting\", \"run_properties\": \"copy=True\", \"primary_metric\": 0.76218905, \"best_metric\": 0.77110006}, {\"run_id\": \"AutoML_6d887152-79c9-442a-a385-9472117cfed6_10\", \"run_number\": 15, \"metric\": null, \"status\": \"Completed\", \"run_type\": \"azureml.scriptrun\", \"training_percent\": \"100\", \"start_time\": \"2021-01-27T15:58:02.826434Z\", \"end_time\": \"2021-01-27T15:59:06.7976Z\", \"created_time\": \"2021-01-27T15:57:51.646429Z\", \"created_time_dt\": \"2021-01-27T15:57:51.646429Z\", \"duration\": \"0:01:15\", \"iteration\": \"10\", \"goal\": \"accuracy_max\", \"run_name\": \"MaxAbsScaler, RandomForest\", \"run_properties\": \"copy=True\", \"primary_metric\": 0.66556108, \"best_metric\": 0.77110006}, {\"run_id\": \"AutoML_6d887152-79c9-442a-a385-9472117cfed6_11\", \"run_number\": 16, \"metric\": null, \"status\": \"Completed\", \"run_type\": \"azureml.scriptrun\", \"training_percent\": \"100\", \"start_time\": \"2021-01-27T15:58:12.601994Z\", \"end_time\": \"2021-01-27T15:59:01.441072Z\", \"created_time\": \"2021-01-27T15:57:59.789221Z\", \"created_time_dt\": \"2021-01-27T15:57:59.789221Z\", \"duration\": \"0:01:01\", \"iteration\": \"11\", \"goal\": \"accuracy_max\", \"run_name\": \"MaxAbsScaler, LightGBM\", \"run_properties\": \"copy=True\", \"primary_metric\": 0.73836374, \"best_metric\": 0.77110006}, {\"run_id\": \"AutoML_6d887152-79c9-442a-a385-9472117cfed6_12\", \"run_number\": 17, \"metric\": null, \"status\": \"Completed\", \"run_type\": \"azureml.scriptrun\", \"training_percent\": \"100\", \"start_time\": \"2021-01-27T15:58:12.393976Z\", \"end_time\": \"2021-01-27T15:59:09.976843Z\", \"created_time\": \"2021-01-27T15:57:59.914267Z\", \"created_time_dt\": \"2021-01-27T15:57:59.914267Z\", \"duration\": \"0:01:10\", \"iteration\": \"12\", \"goal\": \"accuracy_max\", \"run_name\": \"MaxAbsScaler, LogisticRegression\", \"run_properties\": \"copy=True\", \"primary_metric\": 0.74587065, \"best_metric\": 0.77110006}, {\"run_id\": \"AutoML_6d887152-79c9-442a-a385-9472117cfed6_13\", \"run_number\": 18, \"metric\": null, \"status\": \"Completed\", \"run_type\": \"azureml.scriptrun\", \"training_percent\": \"100\", \"start_time\": \"2021-01-27T15:58:56.333297Z\", \"end_time\": \"2021-01-27T15:59:41.628012Z\", \"created_time\": \"2021-01-27T15:58:44.28755Z\", \"created_time_dt\": \"2021-01-27T15:58:44.28755Z\", \"duration\": \"0:00:57\", \"iteration\": \"13\", \"goal\": \"accuracy_max\", \"run_name\": \"MaxAbsScaler, LightGBM\", \"run_properties\": \"copy=True\", \"primary_metric\": 0.75029298, \"best_metric\": 0.77110006}, {\"run_id\": \"AutoML_6d887152-79c9-442a-a385-9472117cfed6_14\", \"run_number\": 19, \"metric\": null, \"status\": \"Completed\", \"run_type\": \"azureml.scriptrun\", \"training_percent\": \"100\", \"start_time\": \"2021-01-27T15:59:15.406089Z\", \"end_time\": \"2021-01-27T16:00:05.708671Z\", \"created_time\": \"2021-01-27T15:59:03.906401Z\", \"created_time_dt\": \"2021-01-27T15:59:03.906401Z\", \"duration\": \"0:01:01\", \"iteration\": \"14\", \"goal\": \"accuracy_max\", \"run_name\": \"StandardScalerWrapper, LogisticRegression\", \"run_properties\": \"<azureml.automl.runtime.shared.model_wrappers.StandardScalerWrapper object at 0x7f37616bd6a0\", \"primary_metric\": 0.74585959, \"best_metric\": 0.77110006}, {\"run_id\": \"AutoML_6d887152-79c9-442a-a385-9472117cfed6_15\", \"run_number\": 20, \"metric\": null, \"status\": \"Completed\", \"run_type\": \"azureml.scriptrun\", \"training_percent\": \"100\", \"start_time\": \"2021-01-27T15:59:20.634393Z\", \"end_time\": \"2021-01-27T16:00:09.446229Z\", \"created_time\": \"2021-01-27T15:59:08.923605Z\", \"created_time_dt\": \"2021-01-27T15:59:08.923605Z\", \"duration\": \"0:01:00\", \"iteration\": \"15\", \"goal\": \"accuracy_max\", \"run_name\": \"MaxAbsScaler, LogisticRegression\", \"run_properties\": \"copy=True\", \"primary_metric\": 0.76518519, \"best_metric\": 0.77110006}, {\"run_id\": \"AutoML_6d887152-79c9-442a-a385-9472117cfed6_16\", \"run_number\": 21, \"metric\": null, \"status\": \"Completed\", \"run_type\": \"azureml.scriptrun\", \"training_percent\": \"100\", \"start_time\": \"2021-01-27T15:59:24.659604Z\", \"end_time\": \"2021-01-27T16:00:03.833547Z\", \"created_time\": \"2021-01-27T15:59:13.796746Z\", \"created_time_dt\": \"2021-01-27T15:59:13.796746Z\", \"duration\": \"0:00:50\", \"iteration\": \"16\", \"goal\": \"accuracy_max\", \"run_name\": \"SparseNormalizer, LightGBM\", \"run_properties\": \"<azureml.automl.runtime.shared.model_wrappers.SparseNormalizer object at 0x7f1290544fd0\", \"primary_metric\": 0.6640796, \"best_metric\": 0.77110006}, {\"run_id\": \"AutoML_6d887152-79c9-442a-a385-9472117cfed6_17\", \"run_number\": 22, \"metric\": null, \"status\": \"Completed\", \"run_type\": \"azureml.scriptrun\", \"training_percent\": \"100\", \"start_time\": \"2021-01-27T15:59:55.550008Z\", \"end_time\": \"2021-01-27T16:00:41.053334Z\", \"created_time\": \"2021-01-27T15:59:43.860221Z\", \"created_time_dt\": \"2021-01-27T15:59:43.860221Z\", \"duration\": \"0:00:57\", \"iteration\": \"17\", \"goal\": \"accuracy_max\", \"run_name\": \"StandardScalerWrapper, LightGBM\", \"run_properties\": \"<azureml.automl.runtime.shared.model_wrappers.StandardScalerWrapper object at 0x7ff3998cbd30\", \"primary_metric\": 0.7324157, \"best_metric\": 0.77110006}, {\"run_id\": \"AutoML_6d887152-79c9-442a-a385-9472117cfed6_18\", \"run_number\": 23, \"metric\": null, \"status\": \"Completed\", \"run_type\": \"azureml.scriptrun\", \"training_percent\": \"100\", \"start_time\": \"2021-01-27T16:00:19.301692Z\", \"end_time\": \"2021-01-27T16:01:05.307856Z\", \"created_time\": \"2021-01-27T16:00:06.199547Z\", \"created_time_dt\": \"2021-01-27T16:00:06.199547Z\", \"duration\": \"0:00:59\", \"iteration\": \"18\", \"goal\": \"accuracy_max\", \"run_name\": \"StandardScalerWrapper, GradientBoosting\", \"run_properties\": \"<azureml.automl.runtime.shared.model_wrappers.StandardScalerWrapper object at 0x7fed6e777da0\", \"primary_metric\": 0.76813709, \"best_metric\": 0.77110006}, {\"run_id\": \"AutoML_6d887152-79c9-442a-a385-9472117cfed6_19\", \"run_number\": 24, \"metric\": null, \"status\": \"Completed\", \"run_type\": \"azureml.scriptrun\", \"training_percent\": \"100\", \"start_time\": \"2021-01-27T16:00:23.448766Z\", \"end_time\": \"2021-01-27T16:01:06.608271Z\", \"created_time\": \"2021-01-27T16:00:11.64631Z\", \"created_time_dt\": \"2021-01-27T16:00:11.64631Z\", \"duration\": \"0:00:54\", \"iteration\": \"19\", \"goal\": \"accuracy_max\", \"run_name\": \"SparseNormalizer, RandomForest\", \"run_properties\": \"<azureml.automl.runtime.shared.model_wrappers.SparseNormalizer object at 0x7fc9b4c46e48\", \"primary_metric\": 0.69376451, \"best_metric\": 0.77110006}, {\"run_id\": \"AutoML_6d887152-79c9-442a-a385-9472117cfed6_20\", \"run_number\": 25, \"metric\": null, \"status\": \"Completed\", \"run_type\": \"azureml.scriptrun\", \"training_percent\": \"100\", \"start_time\": \"2021-01-27T16:00:26.098661Z\", \"end_time\": \"2021-01-27T16:01:09.554914Z\", \"created_time\": \"2021-01-27T16:00:11.882214Z\", \"created_time_dt\": \"2021-01-27T16:00:11.882214Z\", \"duration\": \"0:00:57\", \"iteration\": \"20\", \"goal\": \"accuracy_max\", \"run_name\": \"SparseNormalizer, XGBoostClassifier\", \"run_properties\": \"<azureml.automl.runtime.shared.model_wrappers.SparseNormalizer object at 0x7f29c83e6e48\", \"primary_metric\": 0.71605307, \"best_metric\": 0.77110006}, {\"run_id\": \"AutoML_6d887152-79c9-442a-a385-9472117cfed6_21\", \"run_number\": 26, \"metric\": null, \"status\": \"Completed\", \"run_type\": \"azureml.scriptrun\", \"training_percent\": \"100\", \"start_time\": \"2021-01-27T16:00:57.616178Z\", \"end_time\": \"2021-01-27T16:01:40.892826Z\", \"created_time\": \"2021-01-27T16:00:45.12445Z\", \"created_time_dt\": \"2021-01-27T16:00:45.12445Z\", \"duration\": \"0:00:55\", \"iteration\": \"21\", \"goal\": \"accuracy_max\", \"run_name\": \"MaxAbsScaler, ExtremeRandomTrees\", \"run_properties\": \"copy=True\", \"primary_metric\": 0.74138198, \"best_metric\": 0.77110006}, {\"run_id\": \"AutoML_6d887152-79c9-442a-a385-9472117cfed6_22\", \"run_number\": 27, \"metric\": null, \"status\": \"Completed\", \"run_type\": \"azureml.scriptrun\", \"training_percent\": \"100\", \"start_time\": \"2021-01-27T16:01:21.088249Z\", \"end_time\": \"2021-01-27T16:02:03.691431Z\", \"created_time\": \"2021-01-27T16:01:08.742212Z\", \"created_time_dt\": \"2021-01-27T16:01:08.742212Z\", \"duration\": \"0:00:54\", \"iteration\": \"22\", \"goal\": \"accuracy_max\", \"run_name\": \"SparseNormalizer, LightGBM\", \"run_properties\": \"<azureml.automl.runtime.shared.model_wrappers.SparseNormalizer object at 0x7fe008e52f98\", \"primary_metric\": 0.68495301, \"best_metric\": 0.77110006}, {\"run_id\": \"AutoML_6d887152-79c9-442a-a385-9472117cfed6_24\", \"run_number\": 28, \"metric\": null, \"status\": \"Completed\", \"run_type\": \"azureml.scriptrun\", \"training_percent\": \"100\", \"start_time\": \"2021-01-27T16:01:29.84153Z\", \"end_time\": \"2021-01-27T16:02:18.702688Z\", \"created_time\": \"2021-01-27T16:01:15.842739Z\", \"created_time_dt\": \"2021-01-27T16:01:15.842739Z\", \"duration\": \"0:01:02\", \"iteration\": \"24\", \"goal\": \"accuracy_max\", \"run_name\": \"SparseNormalizer, XGBoostClassifier\", \"run_properties\": \"<azureml.automl.runtime.shared.model_wrappers.SparseNormalizer object at 0x7f7af9a024e0\", \"primary_metric\": 0.69825318, \"best_metric\": 0.77110006}, {\"run_id\": \"AutoML_6d887152-79c9-442a-a385-9472117cfed6_23\", \"run_number\": 29, \"metric\": null, \"status\": \"Completed\", \"run_type\": \"azureml.scriptrun\", \"training_percent\": \"100\", \"start_time\": \"2021-01-27T16:01:28.294004Z\", \"end_time\": \"2021-01-27T16:02:10.895363Z\", \"created_time\": \"2021-01-27T16:01:15.966464Z\", \"created_time_dt\": \"2021-01-27T16:01:15.966464Z\", \"duration\": \"0:00:54\", \"iteration\": \"23\", \"goal\": \"accuracy_max\", \"run_name\": \"StandardScalerWrapper, XGBoostClassifier\", \"run_properties\": \"<azureml.automl.runtime.shared.model_wrappers.StandardScalerWrapper object at 0x7ff59c6049b0\", \"primary_metric\": 0.76070757, \"best_metric\": 0.77110006}, {\"run_id\": \"AutoML_6d887152-79c9-442a-a385-9472117cfed6_25\", \"run_number\": 30, \"metric\": null, \"status\": \"Completed\", \"run_type\": \"azureml.scriptrun\", \"training_percent\": \"100\", \"start_time\": \"2021-01-27T16:01:56.361909Z\", \"end_time\": \"2021-01-27T16:02:43.969256Z\", \"created_time\": \"2021-01-27T16:01:44.774858Z\", \"created_time_dt\": \"2021-01-27T16:01:44.774858Z\", \"duration\": \"0:00:59\", \"iteration\": \"25\", \"goal\": \"accuracy_max\", \"run_name\": \"TruncatedSVDWrapper, XGBoostClassifier\", \"run_properties\": \"n_components=0.9005263157894737, random_state=None\", \"primary_metric\": 0.71907131, \"best_metric\": 0.77110006}, {\"run_id\": \"AutoML_6d887152-79c9-442a-a385-9472117cfed6_26\", \"run_number\": 31, \"metric\": null, \"status\": \"Completed\", \"run_type\": \"azureml.scriptrun\", \"training_percent\": \"100\", \"start_time\": \"2021-01-27T16:02:20.204981Z\", \"end_time\": \"2021-01-27T16:03:09.240639Z\", \"created_time\": \"2021-01-27T16:02:06.288791Z\", \"created_time_dt\": \"2021-01-27T16:02:06.288791Z\", \"duration\": \"0:01:02\", \"iteration\": \"26\", \"goal\": \"accuracy_max\", \"run_name\": \"MaxAbsScaler, LightGBM\", \"run_properties\": \"copy=True\", \"primary_metric\": 0.74884467, \"best_metric\": 0.77110006}, {\"run_id\": \"AutoML_6d887152-79c9-442a-a385-9472117cfed6_27\", \"run_number\": 32, \"metric\": null, \"status\": \"Completed\", \"run_type\": \"azureml.scriptrun\", \"training_percent\": \"100\", \"start_time\": \"2021-01-27T16:02:32.206915Z\", \"end_time\": \"2021-01-27T16:03:16.694282Z\", \"created_time\": \"2021-01-27T16:02:19.877402Z\", \"created_time_dt\": \"2021-01-27T16:02:19.877402Z\", \"duration\": \"0:00:56\", \"iteration\": \"27\", \"goal\": \"accuracy_max\", \"run_name\": \"MaxAbsScaler, ExtremeRandomTrees\", \"run_properties\": \"copy=True\", \"primary_metric\": 0.72351575, \"best_metric\": 0.77110006}, {\"run_id\": \"AutoML_6d887152-79c9-442a-a385-9472117cfed6_28\", \"run_number\": 33, \"metric\": null, \"status\": \"Completed\", \"run_type\": \"azureml.scriptrun\", \"training_percent\": \"100\", \"start_time\": \"2021-01-27T16:02:40.857294Z\", \"end_time\": \"2021-01-27T16:03:26.505722Z\", \"created_time\": \"2021-01-27T16:02:26.397731Z\", \"created_time_dt\": \"2021-01-27T16:02:26.397731Z\", \"duration\": \"0:01:00\", \"iteration\": \"28\", \"goal\": \"accuracy_max\", \"run_name\": \"SparseNormalizer, XGBoostClassifier\", \"run_properties\": \"<azureml.automl.runtime.shared.model_wrappers.SparseNormalizer object at 0x7ff80032cef0\", \"primary_metric\": 0.70123825, \"best_metric\": 0.77110006}, {\"run_id\": \"AutoML_6d887152-79c9-442a-a385-9472117cfed6_29\", \"run_number\": 34, \"metric\": null, \"status\": \"Completed\", \"run_type\": \"azureml.scriptrun\", \"training_percent\": \"100\", \"start_time\": \"2021-01-27T16:03:01.301472Z\", \"end_time\": \"2021-01-27T16:03:52.42672Z\", \"created_time\": \"2021-01-27T16:02:47.178897Z\", \"created_time_dt\": \"2021-01-27T16:02:47.178897Z\", \"duration\": \"0:01:05\", \"iteration\": \"29\", \"goal\": \"accuracy_max\", \"run_name\": \"StandardScalerWrapper, ExtremeRandomTrees\", \"run_properties\": \"<azureml.automl.runtime.shared.model_wrappers.StandardScalerWrapper object at 0x7ffa22a57908\", \"primary_metric\": 0.6551686, \"best_metric\": 0.77110006}, {\"run_id\": \"AutoML_6d887152-79c9-442a-a385-9472117cfed6_30\", \"run_number\": 35, \"metric\": null, \"status\": \"Completed\", \"run_type\": \"azureml.scriptrun\", \"training_percent\": \"100\", \"start_time\": \"2021-01-27T16:03:27.064482Z\", \"end_time\": \"2021-01-27T16:04:14.883164Z\", \"created_time\": \"2021-01-27T16:03:13.440326Z\", \"created_time_dt\": \"2021-01-27T16:03:13.440326Z\", \"duration\": \"0:01:01\", \"iteration\": \"30\", \"goal\": \"accuracy_max\", \"run_name\": \"TruncatedSVDWrapper, XGBoostClassifier\", \"run_properties\": \"n_components=0.2573684210526316, random_state=None\", \"primary_metric\": 0.64775014, \"best_metric\": 0.77110006}, {\"run_id\": \"AutoML_6d887152-79c9-442a-a385-9472117cfed6_31\", \"run_number\": 36, \"metric\": null, \"status\": \"Completed\", \"run_type\": \"azureml.scriptrun\", \"training_percent\": \"100\", \"start_time\": \"2021-01-27T16:03:32.844338Z\", \"end_time\": \"2021-01-27T16:04:17.440332Z\", \"created_time\": \"2021-01-27T16:03:21.083442Z\", \"created_time_dt\": \"2021-01-27T16:03:21.083442Z\", \"duration\": \"0:00:56\", \"iteration\": \"31\", \"goal\": \"accuracy_max\", \"run_name\": \"SparseNormalizer, XGBoostClassifier\", \"run_properties\": \"<azureml.automl.runtime.shared.model_wrappers.SparseNormalizer object at 0x7fb49472f7b8\", \"primary_metric\": 0.69974572, \"best_metric\": 0.77110006}, {\"run_id\": \"AutoML_6d887152-79c9-442a-a385-9472117cfed6_32\", \"run_number\": 37, \"metric\": null, \"status\": \"Completed\", \"run_type\": \"azureml.scriptrun\", \"training_percent\": \"100\", \"start_time\": \"2021-01-27T16:03:41.951733Z\", \"end_time\": \"2021-01-27T16:04:32.254469Z\", \"created_time\": \"2021-01-27T16:03:29.898595Z\", \"created_time_dt\": \"2021-01-27T16:03:29.898595Z\", \"duration\": \"0:01:02\", \"iteration\": \"32\", \"goal\": \"accuracy_max\", \"run_name\": \"SparseNormalizer, XGBoostClassifier\", \"run_properties\": \"<azureml.automl.runtime.shared.model_wrappers.SparseNormalizer object at 0x7fa0ef394e80\", \"primary_metric\": 0.7190492, \"best_metric\": 0.77110006}, {\"run_id\": \"AutoML_6d887152-79c9-442a-a385-9472117cfed6_33\", \"run_number\": 38, \"metric\": null, \"status\": \"Canceled\", \"run_type\": \"azureml.scriptrun\", \"training_percent\": \"100\", \"start_time\": \"2021-01-27T16:04:07.403798Z\", \"end_time\": \"2021-01-27T16:04:40.77027Z\", \"created_time\": \"2021-01-27T16:03:54.962792Z\", \"created_time_dt\": \"2021-01-27T16:03:54.962792Z\", \"duration\": \"0:00:45\", \"iteration\": \"33\", \"goal\": \"accuracy_max\", \"run_name\": \"SparseNormalizer, LightGBM\", \"run_properties\": \"<azureml.automl.runtime.shared.model_wrappers.SparseNormalizer object at 0x7ff10f0a9d68\", \"primary_metric\": 0.67898286, \"best_metric\": 0.77110006}, {\"run_id\": \"AutoML_6d887152-79c9-442a-a385-9472117cfed6_34\", \"run_number\": 39, \"metric\": null, \"status\": \"Canceled\", \"run_type\": \"azureml.scriptrun\", \"training_percent\": \"100\", \"start_time\": \"2021-01-27T16:04:32.312493Z\", \"end_time\": \"2021-01-27T16:04:39.852361Z\", \"created_time\": \"2021-01-27T16:04:17.989297Z\", \"created_time_dt\": \"2021-01-27T16:04:17.989297Z\", \"duration\": \"0:00:21\", \"iteration\": \"34\", \"goal\": null, \"run_name\": \"Canceled\", \"run_properties\": null}, {\"run_id\": \"AutoML_6d887152-79c9-442a-a385-9472117cfed6_35\", \"run_number\": 40, \"metric\": null, \"status\": \"Canceled\", \"run_type\": \"azureml.scriptrun\", \"training_percent\": \"100\", \"start_time\": \"2021-01-27T16:04:25.678341Z\", \"end_time\": \"2021-01-27T16:04:43.175202Z\", \"created_time\": \"2021-01-27T16:04:25.678341Z\", \"created_time_dt\": \"2021-01-27T16:04:25.678341Z\", \"duration\": \"0:00:17\", \"iteration\": \"35\", \"goal\": null, \"run_name\": \"Canceled\", \"run_properties\": null}, {\"run_id\": \"AutoML_6d887152-79c9-442a-a385-9472117cfed6_37\", \"run_number\": 41, \"metric\": null, \"status\": \"Completed\", \"run_type\": \"azureml.scriptrun\", \"training_percent\": \"100\", \"start_time\": \"2021-01-27T16:04:57.377201Z\", \"end_time\": \"2021-01-27T16:06:26.681376Z\", \"created_time\": \"2021-01-27T16:04:44.783224Z\", \"created_time_dt\": \"2021-01-27T16:04:44.783224Z\", \"duration\": \"0:01:41\", \"iteration\": \"37\", \"goal\": \"accuracy_max\", \"run_name\": \"StackEnsemble\", \"run_properties\": \"base_learners=[('1',\\n                                        Pipeline(memory=None,\\n                                                 steps=[('maxabsscaler',\\n                                                         MaxAbsScaler(copy=True\", \"primary_metric\": 0.7652073, \"best_metric\": 0.78597015}, {\"run_id\": \"AutoML_6d887152-79c9-442a-a385-9472117cfed6_36\", \"run_number\": 42, \"metric\": null, \"status\": \"Completed\", \"run_type\": \"azureml.scriptrun\", \"training_percent\": \"100\", \"start_time\": \"2021-01-27T16:04:56.944246Z\", \"end_time\": \"2021-01-27T16:06:25.315983Z\", \"created_time\": \"2021-01-27T16:04:44.817108Z\", \"created_time_dt\": \"2021-01-27T16:04:44.817108Z\", \"duration\": \"0:01:40\", \"iteration\": \"36\", \"goal\": \"accuracy_max\", \"run_name\": \"VotingEnsemble\", \"run_properties\": \"classification_labels=None,\\n                              estimators=[('1',\\n                                           Pipeline(memory=None,\\n                                                    steps=[('maxabsscaler',\\n                                                            MaxAbsScaler(copy=True\", \"primary_metric\": 0.78597015, \"best_metric\": 0.78597015}], \"children_metrics\": {\"categories\": [0], \"series\": {\"average_precision_score_micro\": [{\"categories\": [\"0\", \"1\", \"2\", \"3\", \"4\", \"5\", \"6\", \"7\", \"8\", \"9\", \"10\", \"11\", \"12\", \"13\", \"14\", \"15\", \"16\", \"17\", \"18\", \"19\", \"20\", \"21\", \"22\", \"23\", \"24\", \"25\", \"26\", \"27\", \"28\", \"29\", \"30\", \"31\", \"32\", \"33\", \"36\", \"37\"], \"mode\": \"markers\", \"name\": \"average_precision_score_micro\", \"stepped\": false, \"type\": \"scatter\", \"data\": [0.8232625264544247, 0.8460028655680734, 0.8454038509684171, 0.8244919069954104, 0.8337087229163469, 0.7933441463471713, 0.7860644928988372, 0.7795367528736588, 0.739326779048769, 0.8496383524352866, 0.8077987611464694, 0.8391779319680663, 0.8308729765770788, 0.8469399062216041, 0.8236258588570013, 0.838047200146862, 0.751856188964686, 0.8304176250998477, 0.8500543673560694, 0.7622682681158748, 0.7864035175098631, 0.8343138672161989, 0.7451663553315931, 0.8477080309723304, 0.7711920769858295, 0.8157913996894081, 0.8497951757799648, 0.8223408344599321, 0.7825302381853855, 0.7921928722550196, 0.5979224264403674, 0.7859557827446878, 0.7711449252416773, 0.7554480554037888, 0.8514518357812311, 0.8514517012052544]}, {\"categories\": [\"0\", \"1\", \"2\", \"3\", \"4\", \"5\", \"6\", \"7\", \"8\", \"9\", \"10\", \"11\", \"12\", \"13\", \"14\", \"15\", \"16\", \"17\", \"18\", \"19\", \"20\", \"21\", \"22\", \"23\", \"24\", \"25\", \"26\", \"27\", \"28\", \"29\", \"30\", \"31\", \"32\", \"33\", \"36\", \"37\"], \"mode\": \"lines\", \"name\": \"average_precision_score_micro_max\", \"stepped\": true, \"type\": \"scatter\", \"data\": [0.8232625264544247, 0.8460028655680734, 0.8460028655680734, 0.8460028655680734, 0.8460028655680734, 0.8460028655680734, 0.8460028655680734, 0.8460028655680734, 0.8460028655680734, 0.8496383524352866, 0.8496383524352866, 0.8496383524352866, 0.8496383524352866, 0.8496383524352866, 0.8496383524352866, 0.8496383524352866, 0.8496383524352866, 0.8496383524352866, 0.8500543673560694, 0.8500543673560694, 0.8500543673560694, 0.8500543673560694, 0.8500543673560694, 0.8500543673560694, 0.8500543673560694, 0.8500543673560694, 0.8500543673560694, 0.8500543673560694, 0.8500543673560694, 0.8500543673560694, 0.8500543673560694, 0.8500543673560694, 0.8500543673560694, 0.8500543673560694, 0.8514518357812311, 0.8514518357812311]}], \"precision_score_macro\": [{\"categories\": [\"0\", \"1\", \"2\", \"3\", \"4\", \"5\", \"6\", \"7\", \"8\", \"9\", \"10\", \"11\", \"12\", \"13\", \"14\", \"15\", \"16\", \"17\", \"18\", \"19\", \"20\", \"21\", \"22\", \"23\", \"24\", \"25\", \"26\", \"27\", \"28\", \"29\", \"30\", \"31\", \"32\", \"33\", \"36\", \"37\"], \"mode\": \"markers\", \"name\": \"precision_score_macro\", \"stepped\": false, \"type\": \"scatter\", \"data\": [0.708673086015878, 0.7476626358922781, 0.735126946073991, 0.721474124471267, 0.722490185657666, 0.692120009884516, 0.6889584413195469, 0.6782807881215958, 0.7017696612388884, 0.7410845934202063, 0.7275698628254993, 0.7299721496901582, 0.7285167536822467, 0.741579317100622, 0.7242559671131099, 0.7462488061131948, 0.7344248632024369, 0.7647092734518045, 0.7491660020384467, 0.6618085328602963, 0.6873062497195728, 0.7446872855964417, 0.648678443330905, 0.7375095912867903, 0.6682555702523831, 0.6953775837099434, 0.7233243660619799, 0.7342693376926533, 0.6685635154255568, 0.6068394963681688, 0.3238750690989497, 0.6676104880043465, 0.6919859768336517, 0.6417632747484416, 0.7768453127581295, 0.7472103916521242]}, {\"categories\": [\"0\", \"1\", \"2\", \"3\", \"4\", \"5\", \"6\", \"7\", \"8\", \"9\", \"10\", \"11\", \"12\", \"13\", \"14\", \"15\", \"16\", \"17\", \"18\", \"19\", \"20\", \"21\", \"22\", \"23\", \"24\", \"25\", \"26\", \"27\", \"28\", \"29\", \"30\", \"31\", \"32\", \"33\", \"36\", \"37\"], \"mode\": \"lines\", \"name\": \"precision_score_macro_max\", \"stepped\": true, \"type\": \"scatter\", \"data\": [0.708673086015878, 0.7476626358922781, 0.7476626358922781, 0.7476626358922781, 0.7476626358922781, 0.7476626358922781, 0.7476626358922781, 0.7476626358922781, 0.7476626358922781, 0.7476626358922781, 0.7476626358922781, 0.7476626358922781, 0.7476626358922781, 0.7476626358922781, 0.7476626358922781, 0.7476626358922781, 0.7476626358922781, 0.7647092734518045, 0.7647092734518045, 0.7647092734518045, 0.7647092734518045, 0.7647092734518045, 0.7647092734518045, 0.7647092734518045, 0.7647092734518045, 0.7647092734518045, 0.7647092734518045, 0.7647092734518045, 0.7647092734518045, 0.7647092734518045, 0.7647092734518045, 0.7647092734518045, 0.7647092734518045, 0.7647092734518045, 0.7768453127581295, 0.7768453127581295]}], \"norm_macro_recall\": [{\"categories\": [\"0\", \"1\", \"2\", \"3\", \"4\", \"5\", \"6\", \"7\", \"8\", \"9\", \"10\", \"11\", \"12\", \"13\", \"14\", \"15\", \"16\", \"17\", \"18\", \"19\", \"20\", \"21\", \"22\", \"23\", \"24\", \"25\", \"26\", \"27\", \"28\", \"29\", \"30\", \"31\", \"32\", \"33\", \"36\", \"37\"], \"mode\": \"markers\", \"name\": \"norm_macro_recall\", \"stepped\": false, \"type\": \"scatter\", \"data\": [0.39891994913562534, 0.4790342718415349, 0.4013717869780077, 0.3185419988213445, 0.4647440882373659, 0.41672590942767557, 0.3272009993867274, 0.30834253594262184, 0.1009628741778843, 0.4353871372568562, 0.06171231938775099, 0.33020539957389794, 0.3691484943317469, 0.37367790403670975, 0.37973960159828585, 0.42937581310920486, 0.061528976845285355, 0.2788631568506279, 0.4542112397687541, 0.27112602346988857, 0.3197442145210269, 0.32992635260838477, 0.2135801490715966, 0.45707305880269666, 0.25558981370567985, 0.3126392337993473, 0.43444627570077576, 0.2627676387182212, 0.29059759267666113, 0.02783838383838382, 0.0, 0.27327010427589454, 0.3304025647836086, 0.26339962659180516, 0.48272463603902926, 0.44577272693496556]}, {\"categories\": [\"0\", \"1\", \"2\", \"3\", \"4\", \"5\", \"6\", \"7\", \"8\", \"9\", \"10\", \"11\", \"12\", \"13\", \"14\", \"15\", \"16\", \"17\", \"18\", \"19\", \"20\", \"21\", \"22\", \"23\", \"24\", \"25\", \"26\", \"27\", \"28\", \"29\", \"30\", \"31\", \"32\", \"33\", \"36\", \"37\"], \"mode\": \"lines\", \"name\": \"norm_macro_recall_max\", \"stepped\": true, \"type\": \"scatter\", \"data\": [0.39891994913562534, 0.4790342718415349, 0.4790342718415349, 0.4790342718415349, 0.4790342718415349, 0.4790342718415349, 0.4790342718415349, 0.4790342718415349, 0.4790342718415349, 0.4790342718415349, 0.4790342718415349, 0.4790342718415349, 0.4790342718415349, 0.4790342718415349, 0.4790342718415349, 0.4790342718415349, 0.4790342718415349, 0.4790342718415349, 0.4790342718415349, 0.4790342718415349, 0.4790342718415349, 0.4790342718415349, 0.4790342718415349, 0.4790342718415349, 0.4790342718415349, 0.4790342718415349, 0.4790342718415349, 0.4790342718415349, 0.4790342718415349, 0.4790342718415349, 0.4790342718415349, 0.4790342718415349, 0.4790342718415349, 0.4790342718415349, 0.48272463603902926, 0.48272463603902926]}], \"accuracy\": [{\"categories\": [\"0\", \"1\", \"2\", \"3\", \"4\", \"5\", \"6\", \"7\", \"8\", \"9\", \"10\", \"11\", \"12\", \"13\", \"14\", \"15\", \"16\", \"17\", \"18\", \"19\", \"20\", \"21\", \"22\", \"23\", \"24\", \"25\", \"26\", \"27\", \"28\", \"29\", \"30\", \"31\", \"32\", \"33\", \"36\", \"37\"], \"mode\": \"markers\", \"name\": \"accuracy\", \"stepped\": false, \"type\": \"scatter\", \"data\": [0.7355113322277501, 0.7711000552791598, 0.7548258706467662, 0.7325262576008844, 0.7429076838032062, 0.7072415699281371, 0.7160862354892206, 0.7086898839137645, 0.6537313432835822, 0.7621890547263681, 0.6655610834715311, 0.7383637368711995, 0.7458706467661692, 0.7502929795467109, 0.7458595909342178, 0.7651851851851852, 0.6640796019900497, 0.732415699281371, 0.7681370923161969, 0.6937645107794362, 0.7160530679933665, 0.7413819789939193, 0.6849530127142067, 0.7607075732448868, 0.698253178551686, 0.7190713101160864, 0.7488446655610834, 0.7235157545605306, 0.7012382531785516, 0.6551686014372582, 0.6477501381978994, 0.6997457158651189, 0.7190491984521834, 0.6789828634604754, 0.7859701492537313, 0.7652072968490878]}, {\"categories\": [\"0\", \"1\", \"2\", \"3\", \"4\", \"5\", \"6\", \"7\", \"8\", \"9\", \"10\", \"11\", \"12\", \"13\", \"14\", \"15\", \"16\", \"17\", \"18\", \"19\", \"20\", \"21\", \"22\", \"23\", \"24\", \"25\", \"26\", \"27\", \"28\", \"29\", \"30\", \"31\", \"32\", \"33\", \"36\", \"37\"], \"mode\": \"lines\", \"name\": \"accuracy_max\", \"stepped\": true, \"type\": \"scatter\", \"data\": [0.7355113322277501, 0.7711000552791598, 0.7711000552791598, 0.7711000552791598, 0.7711000552791598, 0.7711000552791598, 0.7711000552791598, 0.7711000552791598, 0.7711000552791598, 0.7711000552791598, 0.7711000552791598, 0.7711000552791598, 0.7711000552791598, 0.7711000552791598, 0.7711000552791598, 0.7711000552791598, 0.7711000552791598, 0.7711000552791598, 0.7711000552791598, 0.7711000552791598, 0.7711000552791598, 0.7711000552791598, 0.7711000552791598, 0.7711000552791598, 0.7711000552791598, 0.7711000552791598, 0.7711000552791598, 0.7711000552791598, 0.7711000552791598, 0.7711000552791598, 0.7711000552791598, 0.7711000552791598, 0.7711000552791598, 0.7711000552791598, 0.7859701492537313, 0.7859701492537313]}], \"precision_score_weighted\": [{\"categories\": [\"0\", \"1\", \"2\", \"3\", \"4\", \"5\", \"6\", \"7\", \"8\", \"9\", \"10\", \"11\", \"12\", \"13\", \"14\", \"15\", \"16\", \"17\", \"18\", \"19\", \"20\", \"21\", \"22\", \"23\", \"24\", \"25\", \"26\", \"27\", \"28\", \"29\", \"30\", \"31\", \"32\", \"33\", \"36\", \"37\"], \"mode\": \"markers\", \"name\": \"precision_score_weighted\", \"stepped\": false, \"type\": \"scatter\", \"data\": [0.7340778099619865, 0.7694596565619543, 0.7494484571624151, 0.7303544543474969, 0.7560992649393748, 0.7331198054069427, 0.7100090919972644, 0.7009891470272815, 0.7047171012652883, 0.7573012546905453, 0.7063648345377548, 0.7364333798701026, 0.7408723671223687, 0.7498503352852712, 0.7398719602642844, 0.7595038502546078, 0.7150293698396608, 0.753476514121339, 0.7653464839360046, 0.6849888838575698, 0.7066922459609966, 0.746742060001444, 0.6700698504340947, 0.7595054776905054, 0.6874655378283051, 0.7111810783620023, 0.7478932585068212, 0.7323818445250756, 0.6923383462923096, 0.62475069169892, 0.42179749553931717, 0.6894056278029825, 0.713143960740489, 0.6715747229104893, 0.7857955699664865, 0.7636176861172382]}, {\"categories\": [\"0\", \"1\", \"2\", \"3\", \"4\", \"5\", \"6\", \"7\", \"8\", \"9\", \"10\", \"11\", \"12\", \"13\", \"14\", \"15\", \"16\", \"17\", \"18\", \"19\", \"20\", \"21\", \"22\", \"23\", \"24\", \"25\", \"26\", \"27\", \"28\", \"29\", \"30\", \"31\", \"32\", \"33\", \"36\", \"37\"], \"mode\": \"lines\", \"name\": \"precision_score_weighted_max\", \"stepped\": true, \"type\": \"scatter\", \"data\": [0.7340778099619865, 0.7694596565619543, 0.7694596565619543, 0.7694596565619543, 0.7694596565619543, 0.7694596565619543, 0.7694596565619543, 0.7694596565619543, 0.7694596565619543, 0.7694596565619543, 0.7694596565619543, 0.7694596565619543, 0.7694596565619543, 0.7694596565619543, 0.7694596565619543, 0.7694596565619543, 0.7694596565619543, 0.7694596565619543, 0.7694596565619543, 0.7694596565619543, 0.7694596565619543, 0.7694596565619543, 0.7694596565619543, 0.7694596565619543, 0.7694596565619543, 0.7694596565619543, 0.7694596565619543, 0.7694596565619543, 0.7694596565619543, 0.7694596565619543, 0.7694596565619543, 0.7694596565619543, 0.7694596565619543, 0.7694596565619543, 0.7857955699664865, 0.7857955699664865]}], \"AUC_macro\": [{\"categories\": [\"0\", \"1\", \"2\", \"3\", \"4\", \"5\", \"6\", \"7\", \"8\", \"9\", \"10\", \"11\", \"12\", \"13\", \"14\", \"15\", \"16\", \"17\", \"18\", \"19\", \"20\", \"21\", \"22\", \"23\", \"24\", \"25\", \"26\", \"27\", \"28\", \"29\", \"30\", \"31\", \"32\", \"33\", \"36\", \"37\"], \"mode\": \"markers\", \"name\": \"AUC_macro\", \"stepped\": false, \"type\": \"scatter\", \"data\": [0.7980234869216145, 0.823833514153207, 0.8262493293213238, 0.807867197581054, 0.8205211634689217, 0.8004481050924983, 0.7528417697663563, 0.7421270433425985, 0.7148213554589056, 0.8274161657420143, 0.819055598972272, 0.8218931172482528, 0.807457335535376, 0.8328678251261404, 0.7976756442162387, 0.8154740079116891, 0.7192834392882654, 0.8293286651307847, 0.8274234335039022, 0.722719779408207, 0.7520635201077441, 0.8223255178462608, 0.6939253300082493, 0.8293677587029956, 0.7336634947759538, 0.7917785006976799, 0.8277021618615107, 0.8144819215056603, 0.7480302557287578, 0.7876556796361593, 0.5, 0.7473952959420057, 0.7378689232156077, 0.7178220834380621, 0.8302014284310048, 0.829431584417836]}, {\"categories\": [\"0\", \"1\", \"2\", \"3\", \"4\", \"5\", \"6\", \"7\", \"8\", \"9\", \"10\", \"11\", \"12\", \"13\", \"14\", \"15\", \"16\", \"17\", \"18\", \"19\", \"20\", \"21\", \"22\", \"23\", \"24\", \"25\", \"26\", \"27\", \"28\", \"29\", \"30\", \"31\", \"32\", \"33\", \"36\", \"37\"], \"mode\": \"lines\", \"name\": \"AUC_macro_max\", \"stepped\": true, \"type\": \"scatter\", \"data\": [0.7980234869216145, 0.823833514153207, 0.8262493293213238, 0.8262493293213238, 0.8262493293213238, 0.8262493293213238, 0.8262493293213238, 0.8262493293213238, 0.8262493293213238, 0.8274161657420143, 0.8274161657420143, 0.8274161657420143, 0.8274161657420143, 0.8328678251261404, 0.8328678251261404, 0.8328678251261404, 0.8328678251261404, 0.8328678251261404, 0.8328678251261404, 0.8328678251261404, 0.8328678251261404, 0.8328678251261404, 0.8328678251261404, 0.8328678251261404, 0.8328678251261404, 0.8328678251261404, 0.8328678251261404, 0.8328678251261404, 0.8328678251261404, 0.8328678251261404, 0.8328678251261404, 0.8328678251261404, 0.8328678251261404, 0.8328678251261404, 0.8328678251261404, 0.8328678251261404]}], \"weighted_accuracy\": [{\"categories\": [\"0\", \"1\", \"2\", \"3\", \"4\", \"5\", \"6\", \"7\", \"8\", \"9\", \"10\", \"11\", \"12\", \"13\", \"14\", \"15\", \"16\", \"17\", \"18\", \"19\", \"20\", \"21\", \"22\", \"23\", \"24\", \"25\", \"26\", \"27\", \"28\", \"29\", \"30\", \"31\", \"32\", \"33\", \"36\", \"37\"], \"mode\": \"markers\", \"name\": \"weighted_accuracy\", \"stepped\": false, \"type\": \"scatter\", \"data\": [0.7643479556850201, 0.7959391574046151, 0.7967269446246525, 0.7910209577964586, 0.7508932504149152, 0.7063064630609437, 0.7580382375532249, 0.752145801521009, 0.7389983647732272, 0.797199054960086, 0.7733637716525831, 0.7961690057226976, 0.7940504886445832, 0.8011250457495442, 0.7895550914491136, 0.80408327395392, 0.771180292816438, 0.8069931079333037, 0.8000663890518075, 0.7408610805251932, 0.7609167752305499, 0.8024970281463638, 0.7466940633851541, 0.7865164331591934, 0.7557669618692511, 0.7695465869019797, 0.7742391827808828, 0.7968485249136992, 0.7466809355960113, 0.7687845318565929, 0.7657580884483581, 0.7500106663044577, 0.7624301541715478, 0.716742029932269, 0.8214581436414153, 0.7988239237437605]}, {\"categories\": [\"0\", \"1\", \"2\", \"3\", \"4\", \"5\", \"6\", \"7\", \"8\", \"9\", \"10\", \"11\", \"12\", \"13\", \"14\", \"15\", \"16\", \"17\", \"18\", \"19\", \"20\", \"21\", \"22\", \"23\", \"24\", \"25\", \"26\", \"27\", \"28\", \"29\", \"30\", \"31\", \"32\", \"33\", \"36\", \"37\"], \"mode\": \"lines\", \"name\": \"weighted_accuracy_max\", \"stepped\": true, \"type\": \"scatter\", \"data\": [0.7643479556850201, 0.7959391574046151, 0.7967269446246525, 0.7967269446246525, 0.7967269446246525, 0.7967269446246525, 0.7967269446246525, 0.7967269446246525, 0.7967269446246525, 0.797199054960086, 0.797199054960086, 0.797199054960086, 0.797199054960086, 0.8011250457495442, 0.8011250457495442, 0.80408327395392, 0.80408327395392, 0.8069931079333037, 0.8069931079333037, 0.8069931079333037, 0.8069931079333037, 0.8069931079333037, 0.8069931079333037, 0.8069931079333037, 0.8069931079333037, 0.8069931079333037, 0.8069931079333037, 0.8069931079333037, 0.8069931079333037, 0.8069931079333037, 0.8069931079333037, 0.8069931079333037, 0.8069931079333037, 0.8069931079333037, 0.8214581436414153, 0.8214581436414153]}], \"AUC_weighted\": [{\"categories\": [\"0\", \"1\", \"2\", \"3\", \"4\", \"5\", \"6\", \"7\", \"8\", \"9\", \"10\", \"11\", \"12\", \"13\", \"14\", \"15\", \"16\", \"17\", \"18\", \"19\", \"20\", \"21\", \"22\", \"23\", \"24\", \"25\", \"26\", \"27\", \"28\", \"29\", \"30\", \"31\", \"32\", \"33\", \"36\", \"37\"], \"mode\": \"markers\", \"name\": \"AUC_weighted\", \"stepped\": false, \"type\": \"scatter\", \"data\": [0.7980234869216145, 0.823833514153207, 0.8262493293213238, 0.807867197581054, 0.8205211634689217, 0.8004481050924983, 0.7528417697663564, 0.7421270433425985, 0.7148213554589056, 0.8274161657420143, 0.8190555989722718, 0.8218931172482528, 0.807457335535376, 0.8328678251261404, 0.7976756442162387, 0.8154740079116891, 0.7192834392882654, 0.8293286651307845, 0.8274234335039022, 0.722719779408207, 0.7520635201077441, 0.8223255178462608, 0.6939253300082493, 0.8293677587029956, 0.7336634947759538, 0.7917785006976799, 0.8277021618615107, 0.8144819215056603, 0.7480302557287578, 0.7876556796361592, 0.5, 0.7473952959420057, 0.7378689232156077, 0.717822083438062, 0.8302014284310048, 0.829431584417836]}, {\"categories\": [\"0\", \"1\", \"2\", \"3\", \"4\", \"5\", \"6\", \"7\", \"8\", \"9\", \"10\", \"11\", \"12\", \"13\", \"14\", \"15\", \"16\", \"17\", \"18\", \"19\", \"20\", \"21\", \"22\", \"23\", \"24\", \"25\", \"26\", \"27\", \"28\", \"29\", \"30\", \"31\", \"32\", \"33\", \"36\", \"37\"], \"mode\": \"lines\", \"name\": \"AUC_weighted_max\", \"stepped\": true, \"type\": \"scatter\", \"data\": [0.7980234869216145, 0.823833514153207, 0.8262493293213238, 0.8262493293213238, 0.8262493293213238, 0.8262493293213238, 0.8262493293213238, 0.8262493293213238, 0.8262493293213238, 0.8274161657420143, 0.8274161657420143, 0.8274161657420143, 0.8274161657420143, 0.8328678251261404, 0.8328678251261404, 0.8328678251261404, 0.8328678251261404, 0.8328678251261404, 0.8328678251261404, 0.8328678251261404, 0.8328678251261404, 0.8328678251261404, 0.8328678251261404, 0.8328678251261404, 0.8328678251261404, 0.8328678251261404, 0.8328678251261404, 0.8328678251261404, 0.8328678251261404, 0.8328678251261404, 0.8328678251261404, 0.8328678251261404, 0.8328678251261404, 0.8328678251261404, 0.8328678251261404, 0.8328678251261404]}], \"f1_score_weighted\": [{\"categories\": [\"0\", \"1\", \"2\", \"3\", \"4\", \"5\", \"6\", \"7\", \"8\", \"9\", \"10\", \"11\", \"12\", \"13\", \"14\", \"15\", \"16\", \"17\", \"18\", \"19\", \"20\", \"21\", \"22\", \"23\", \"24\", \"25\", \"26\", \"27\", \"28\", \"29\", \"30\", \"31\", \"32\", \"33\", \"36\", \"37\"], \"mode\": \"markers\", \"name\": \"f1_score_weighted\", \"stepped\": false, \"type\": \"scatter\", \"data\": [0.7325875232726209, 0.7686972449924543, 0.7449900297202946, 0.7101400402644676, 0.7460760976489658, 0.7131965177197478, 0.704973167601571, 0.697295759961411, 0.5782929923861975, 0.7558450258250151, 0.5606844679152709, 0.7168976037368039, 0.7325570974172848, 0.7336394378000957, 0.7350622152120778, 0.7573018579437636, 0.5591016636557031, 0.692833337025738, 0.762175956476152, 0.6799269767843422, 0.7039162158191161, 0.7168420574295323, 0.6610644886977528, 0.7577753134400796, 0.6732098465742571, 0.7028521143550603, 0.7465121687125323, 0.6863391874966588, 0.6884616791543, 0.528775610712095, 0.5102468519874448, 0.6834539930176279, 0.7075035503801244, 0.6723105534529437, 0.7777481735677247, 0.7583693939553239]}, {\"categories\": [\"0\", \"1\", \"2\", \"3\", \"4\", \"5\", \"6\", \"7\", \"8\", \"9\", \"10\", \"11\", \"12\", \"13\", \"14\", \"15\", \"16\", \"17\", \"18\", \"19\", \"20\", \"21\", \"22\", \"23\", \"24\", \"25\", \"26\", \"27\", \"28\", \"29\", \"30\", \"31\", \"32\", \"33\", \"36\", \"37\"], \"mode\": \"lines\", \"name\": \"f1_score_weighted_max\", \"stepped\": true, \"type\": \"scatter\", \"data\": [0.7325875232726209, 0.7686972449924543, 0.7686972449924543, 0.7686972449924543, 0.7686972449924543, 0.7686972449924543, 0.7686972449924543, 0.7686972449924543, 0.7686972449924543, 0.7686972449924543, 0.7686972449924543, 0.7686972449924543, 0.7686972449924543, 0.7686972449924543, 0.7686972449924543, 0.7686972449924543, 0.7686972449924543, 0.7686972449924543, 0.7686972449924543, 0.7686972449924543, 0.7686972449924543, 0.7686972449924543, 0.7686972449924543, 0.7686972449924543, 0.7686972449924543, 0.7686972449924543, 0.7686972449924543, 0.7686972449924543, 0.7686972449924543, 0.7686972449924543, 0.7686972449924543, 0.7686972449924543, 0.7686972449924543, 0.7686972449924543, 0.7777481735677247, 0.7777481735677247]}], \"AUC_micro\": [{\"categories\": [\"0\", \"1\", \"2\", \"3\", \"4\", \"5\", \"6\", \"7\", \"8\", \"9\", \"10\", \"11\", \"12\", \"13\", \"14\", \"15\", \"16\", \"17\", \"18\", \"19\", \"20\", \"21\", \"22\", \"23\", \"24\", \"25\", \"26\", \"27\", \"28\", \"29\", \"30\", \"31\", \"32\", \"33\", \"36\", \"37\"], \"mode\": \"markers\", \"name\": \"AUC_micro\", \"stepped\": false, \"type\": \"scatter\", \"data\": [0.8234713766099787, 0.8468786587301806, 0.843371355250038, 0.8221474758753373, 0.8320500757682016, 0.7970361514703982, 0.7890403861779488, 0.7842021127089814, 0.7490898752353337, 0.8492732370333089, 0.7935991316679913, 0.8334149967562837, 0.8331773917098373, 0.8419978884522171, 0.8275593942333049, 0.8414936208949724, 0.7474751865633444, 0.8251666243440374, 0.847400557558623, 0.766197667763388, 0.7888295388116845, 0.8277077275620546, 0.7468508217465587, 0.8484127486148887, 0.7737240607355703, 0.8139567691913262, 0.8476396416052531, 0.8140435748901215, 0.785001320404916, 0.7779708080810858, 0.6477501381978994, 0.7862053292288023, 0.7750206293023549, 0.7524344178010507, 0.8515787092423149, 0.8511709061106849]}, {\"categories\": [\"0\", \"1\", \"2\", \"3\", \"4\", \"5\", \"6\", \"7\", \"8\", \"9\", \"10\", \"11\", \"12\", \"13\", \"14\", \"15\", \"16\", \"17\", \"18\", \"19\", \"20\", \"21\", \"22\", \"23\", \"24\", \"25\", \"26\", \"27\", \"28\", \"29\", \"30\", \"31\", \"32\", \"33\", \"36\", \"37\"], \"mode\": \"lines\", \"name\": \"AUC_micro_max\", \"stepped\": true, \"type\": \"scatter\", \"data\": [0.8234713766099787, 0.8468786587301806, 0.8468786587301806, 0.8468786587301806, 0.8468786587301806, 0.8468786587301806, 0.8468786587301806, 0.8468786587301806, 0.8468786587301806, 0.8492732370333089, 0.8492732370333089, 0.8492732370333089, 0.8492732370333089, 0.8492732370333089, 0.8492732370333089, 0.8492732370333089, 0.8492732370333089, 0.8492732370333089, 0.8492732370333089, 0.8492732370333089, 0.8492732370333089, 0.8492732370333089, 0.8492732370333089, 0.8492732370333089, 0.8492732370333089, 0.8492732370333089, 0.8492732370333089, 0.8492732370333089, 0.8492732370333089, 0.8492732370333089, 0.8492732370333089, 0.8492732370333089, 0.8492732370333089, 0.8492732370333089, 0.8515787092423149, 0.8515787092423149]}], \"matthews_correlation\": [{\"categories\": [\"0\", \"1\", \"2\", \"3\", \"4\", \"5\", \"6\", \"7\", \"8\", \"9\", \"10\", \"11\", \"12\", \"13\", \"14\", \"15\", \"16\", \"17\", \"18\", \"19\", \"20\", \"21\", \"22\", \"23\", \"24\", \"25\", \"26\", \"27\", \"28\", \"29\", \"30\", \"31\", \"32\", \"33\", \"36\", \"37\"], \"mode\": \"markers\", \"name\": \"matthews_correlation\", \"stepped\": false, \"type\": \"scatter\", \"data\": [0.4078827986016941, 0.4870258040196255, 0.4339783397964722, 0.3751420342689259, 0.4545381696027736, 0.3999332833060415, 0.35126590614956543, 0.3313242400035262, 0.1758759833639029, 0.45814785895653376, 0.1665684728352773, 0.389024136230678, 0.41054793023655894, 0.4245358129772304, 0.4124494787061866, 0.4595185626404169, 0.16095215193183648, 0.38337882493452957, 0.4753952556715886, 0.29574432177614296, 0.3460195392574411, 0.4013692960665664, 0.2518984736508001, 0.4657622670641848, 0.2925556053006993, 0.34938298537872736, 0.4403496994787336, 0.3501750583758012, 0.3127141411012336, 0.09061627074993786, 0.0, 0.30237531907999066, 0.3558663523839076, 0.27314136630076363, 0.5164834087970864, 0.4690614152904888]}, {\"categories\": [\"0\", \"1\", \"2\", \"3\", \"4\", \"5\", \"6\", \"7\", \"8\", \"9\", \"10\", \"11\", \"12\", \"13\", \"14\", \"15\", \"16\", \"17\", \"18\", \"19\", \"20\", \"21\", \"22\", \"23\", \"24\", \"25\", \"26\", \"27\", \"28\", \"29\", \"30\", \"31\", \"32\", \"33\", \"36\", \"37\"], \"mode\": \"lines\", \"name\": \"matthews_correlation_max\", \"stepped\": true, \"type\": \"scatter\", \"data\": [0.4078827986016941, 0.4870258040196255, 0.4870258040196255, 0.4870258040196255, 0.4870258040196255, 0.4870258040196255, 0.4870258040196255, 0.4870258040196255, 0.4870258040196255, 0.4870258040196255, 0.4870258040196255, 0.4870258040196255, 0.4870258040196255, 0.4870258040196255, 0.4870258040196255, 0.4870258040196255, 0.4870258040196255, 0.4870258040196255, 0.4870258040196255, 0.4870258040196255, 0.4870258040196255, 0.4870258040196255, 0.4870258040196255, 0.4870258040196255, 0.4870258040196255, 0.4870258040196255, 0.4870258040196255, 0.4870258040196255, 0.4870258040196255, 0.4870258040196255, 0.4870258040196255, 0.4870258040196255, 0.4870258040196255, 0.4870258040196255, 0.5164834087970864, 0.5164834087970864]}], \"balanced_accuracy\": [{\"categories\": [\"0\", \"1\", \"2\", \"3\", \"4\", \"5\", \"6\", \"7\", \"8\", \"9\", \"10\", \"11\", \"12\", \"13\", \"14\", \"15\", \"16\", \"17\", \"18\", \"19\", \"20\", \"21\", \"22\", \"23\", \"24\", \"25\", \"26\", \"27\", \"28\", \"29\", \"30\", \"31\", \"32\", \"33\", \"36\", \"37\"], \"mode\": \"markers\", \"name\": \"balanced_accuracy\", \"stepped\": false, \"type\": \"scatter\", \"data\": [0.6994599745678126, 0.7395171359207675, 0.7006858934890039, 0.6592709994106724, 0.732372044118683, 0.7083629547138377, 0.6636004996933637, 0.654171267971311, 0.5504814370889421, 0.717693568628428, 0.5308561596938755, 0.665102699786949, 0.6845742471658735, 0.6868389520183549, 0.689869800799143, 0.7146879065546023, 0.5307644884226427, 0.639431578425314, 0.727105619884377, 0.6355630117349442, 0.6598721072605136, 0.6649631763041924, 0.6067900745357984, 0.7285365294013484, 0.62779490685284, 0.6563196168996737, 0.7172231378503879, 0.6313838193591106, 0.6452987963383305, 0.5139191919191919, 0.5, 0.6366350521379471, 0.6652012823918043, 0.6316998132959026, 0.7413623180195146, 0.7228863634674828]}, {\"categories\": [\"0\", \"1\", \"2\", \"3\", \"4\", \"5\", \"6\", \"7\", \"8\", \"9\", \"10\", \"11\", \"12\", \"13\", \"14\", \"15\", \"16\", \"17\", \"18\", \"19\", \"20\", \"21\", \"22\", \"23\", \"24\", \"25\", \"26\", \"27\", \"28\", \"29\", \"30\", \"31\", \"32\", \"33\", \"36\", \"37\"], \"mode\": \"lines\", \"name\": \"balanced_accuracy_max\", \"stepped\": true, \"type\": \"scatter\", \"data\": [0.6994599745678126, 0.7395171359207675, 0.7395171359207675, 0.7395171359207675, 0.7395171359207675, 0.7395171359207675, 0.7395171359207675, 0.7395171359207675, 0.7395171359207675, 0.7395171359207675, 0.7395171359207675, 0.7395171359207675, 0.7395171359207675, 0.7395171359207675, 0.7395171359207675, 0.7395171359207675, 0.7395171359207675, 0.7395171359207675, 0.7395171359207675, 0.7395171359207675, 0.7395171359207675, 0.7395171359207675, 0.7395171359207675, 0.7395171359207675, 0.7395171359207675, 0.7395171359207675, 0.7395171359207675, 0.7395171359207675, 0.7395171359207675, 0.7395171359207675, 0.7395171359207675, 0.7395171359207675, 0.7395171359207675, 0.7395171359207675, 0.7413623180195146, 0.7413623180195146]}], \"recall_score_weighted\": [{\"categories\": [\"0\", \"1\", \"2\", \"3\", \"4\", \"5\", \"6\", \"7\", \"8\", \"9\", \"10\", \"11\", \"12\", \"13\", \"14\", \"15\", \"16\", \"17\", \"18\", \"19\", \"20\", \"21\", \"22\", \"23\", \"24\", \"25\", \"26\", \"27\", \"28\", \"29\", \"30\", \"31\", \"32\", \"33\", \"36\", \"37\"], \"mode\": \"markers\", \"name\": \"recall_score_weighted\", \"stepped\": false, \"type\": \"scatter\", \"data\": [0.7355113322277501, 0.7711000552791598, 0.7548258706467662, 0.7325262576008844, 0.7429076838032062, 0.7072415699281371, 0.7160862354892206, 0.7086898839137645, 0.6537313432835822, 0.7621890547263681, 0.6655610834715311, 0.7383637368711995, 0.7458706467661692, 0.7502929795467109, 0.7458595909342178, 0.7651851851851852, 0.6640796019900497, 0.732415699281371, 0.7681370923161969, 0.6937645107794362, 0.7160530679933665, 0.7413819789939193, 0.6849530127142067, 0.7607075732448868, 0.698253178551686, 0.7190713101160864, 0.7488446655610834, 0.7235157545605306, 0.7012382531785516, 0.6551686014372582, 0.6477501381978994, 0.6997457158651189, 0.7190491984521834, 0.6789828634604754, 0.7859701492537313, 0.7652072968490878]}, {\"categories\": [\"0\", \"1\", \"2\", \"3\", \"4\", \"5\", \"6\", \"7\", \"8\", \"9\", \"10\", \"11\", \"12\", \"13\", \"14\", \"15\", \"16\", \"17\", \"18\", \"19\", \"20\", \"21\", \"22\", \"23\", \"24\", \"25\", \"26\", \"27\", \"28\", \"29\", \"30\", \"31\", \"32\", \"33\", \"36\", \"37\"], \"mode\": \"lines\", \"name\": \"recall_score_weighted_max\", \"stepped\": true, \"type\": \"scatter\", \"data\": [0.7355113322277501, 0.7711000552791598, 0.7711000552791598, 0.7711000552791598, 0.7711000552791598, 0.7711000552791598, 0.7711000552791598, 0.7711000552791598, 0.7711000552791598, 0.7711000552791598, 0.7711000552791598, 0.7711000552791598, 0.7711000552791598, 0.7711000552791598, 0.7711000552791598, 0.7711000552791598, 0.7711000552791598, 0.7711000552791598, 0.7711000552791598, 0.7711000552791598, 0.7711000552791598, 0.7711000552791598, 0.7711000552791598, 0.7711000552791598, 0.7711000552791598, 0.7711000552791598, 0.7711000552791598, 0.7711000552791598, 0.7711000552791598, 0.7711000552791598, 0.7711000552791598, 0.7711000552791598, 0.7711000552791598, 0.7711000552791598, 0.7859701492537313, 0.7859701492537313]}], \"average_precision_score_macro\": [{\"categories\": [\"0\", \"1\", \"2\", \"3\", \"4\", \"5\", \"6\", \"7\", \"8\", \"9\", \"10\", \"11\", \"12\", \"13\", \"14\", \"15\", \"16\", \"17\", \"18\", \"19\", \"20\", \"21\", \"22\", \"23\", \"24\", \"25\", \"26\", \"27\", \"28\", \"29\", \"30\", \"31\", \"32\", \"33\", \"36\", \"37\"], \"mode\": \"markers\", \"name\": \"average_precision_score_macro\", \"stepped\": false, \"type\": \"scatter\", \"data\": [0.7795376576788025, 0.8070048108349864, 0.8039396109397824, 0.7810939034728047, 0.7945890805258478, 0.7693972465830037, 0.7381049543329388, 0.7337265870566838, 0.6765231443922567, 0.8074268927188986, 0.7956380522212049, 0.8009946389739511, 0.7892681789183891, 0.8098192515726049, 0.781755300639163, 0.7993426197917375, 0.7090357028562185, 0.8089390602836846, 0.8027638400014396, 0.7096461312357716, 0.740536955151947, 0.7987325305284949, 0.6851428823815775, 0.8065341010194441, 0.720510793472622, 0.7635798737861785, 0.8118147106179222, 0.790297699260468, 0.7325420591411456, 0.7591423651178484, 0.5, 0.7392325809780196, 0.7240088595016368, 0.6944809389189459, 0.8137278161788062, 0.8092545278494067]}, {\"categories\": [\"0\", \"1\", \"2\", \"3\", \"4\", \"5\", \"6\", \"7\", \"8\", \"9\", \"10\", \"11\", \"12\", \"13\", \"14\", \"15\", \"16\", \"17\", \"18\", \"19\", \"20\", \"21\", \"22\", \"23\", \"24\", \"25\", \"26\", \"27\", \"28\", \"29\", \"30\", \"31\", \"32\", \"33\", \"36\", \"37\"], \"mode\": \"lines\", \"name\": \"average_precision_score_macro_max\", \"stepped\": true, \"type\": \"scatter\", \"data\": [0.7795376576788025, 0.8070048108349864, 0.8070048108349864, 0.8070048108349864, 0.8070048108349864, 0.8070048108349864, 0.8070048108349864, 0.8070048108349864, 0.8070048108349864, 0.8074268927188986, 0.8074268927188986, 0.8074268927188986, 0.8074268927188986, 0.8098192515726049, 0.8098192515726049, 0.8098192515726049, 0.8098192515726049, 0.8098192515726049, 0.8098192515726049, 0.8098192515726049, 0.8098192515726049, 0.8098192515726049, 0.8098192515726049, 0.8098192515726049, 0.8098192515726049, 0.8098192515726049, 0.8118147106179222, 0.8118147106179222, 0.8118147106179222, 0.8118147106179222, 0.8118147106179222, 0.8118147106179222, 0.8118147106179222, 0.8118147106179222, 0.8137278161788062, 0.8137278161788062]}], \"f1_score_micro\": [{\"categories\": [\"0\", \"1\", \"2\", \"3\", \"4\", \"5\", \"6\", \"7\", \"8\", \"9\", \"10\", \"11\", \"12\", \"13\", \"14\", \"15\", \"16\", \"17\", \"18\", \"19\", \"20\", \"21\", \"22\", \"23\", \"24\", \"25\", \"26\", \"27\", \"28\", \"29\", \"30\", \"31\", \"32\", \"33\", \"36\", \"37\"], \"mode\": \"markers\", \"name\": \"f1_score_micro\", \"stepped\": false, \"type\": \"scatter\", \"data\": [0.7355113322277501, 0.7711000552791598, 0.7548258706467662, 0.7325262576008845, 0.7429076838032062, 0.7072415699281371, 0.7160862354892206, 0.7086898839137645, 0.6537313432835822, 0.7621890547263681, 0.6655610834715311, 0.7383637368711996, 0.7458706467661692, 0.7502929795467109, 0.7458595909342178, 0.7651851851851853, 0.6640796019900497, 0.732415699281371, 0.7681370923161969, 0.6937645107794362, 0.7160530679933665, 0.7413819789939193, 0.6849530127142067, 0.7607075732448868, 0.698253178551686, 0.7190713101160864, 0.7488446655610834, 0.7235157545605306, 0.7012382531785516, 0.6551686014372582, 0.6477501381978994, 0.6997457158651189, 0.7190491984521834, 0.6789828634604754, 0.7859701492537313, 0.765207296849088]}, {\"categories\": [\"0\", \"1\", \"2\", \"3\", \"4\", \"5\", \"6\", \"7\", \"8\", \"9\", \"10\", \"11\", \"12\", \"13\", \"14\", \"15\", \"16\", \"17\", \"18\", \"19\", \"20\", \"21\", \"22\", \"23\", \"24\", \"25\", \"26\", \"27\", \"28\", \"29\", \"30\", \"31\", \"32\", \"33\", \"36\", \"37\"], \"mode\": \"lines\", \"name\": \"f1_score_micro_max\", \"stepped\": true, \"type\": \"scatter\", \"data\": [0.7355113322277501, 0.7711000552791598, 0.7711000552791598, 0.7711000552791598, 0.7711000552791598, 0.7711000552791598, 0.7711000552791598, 0.7711000552791598, 0.7711000552791598, 0.7711000552791598, 0.7711000552791598, 0.7711000552791598, 0.7711000552791598, 0.7711000552791598, 0.7711000552791598, 0.7711000552791598, 0.7711000552791598, 0.7711000552791598, 0.7711000552791598, 0.7711000552791598, 0.7711000552791598, 0.7711000552791598, 0.7711000552791598, 0.7711000552791598, 0.7711000552791598, 0.7711000552791598, 0.7711000552791598, 0.7711000552791598, 0.7711000552791598, 0.7711000552791598, 0.7711000552791598, 0.7711000552791598, 0.7711000552791598, 0.7711000552791598, 0.7859701492537313, 0.7859701492537313]}], \"recall_score_micro\": [{\"categories\": [\"0\", \"1\", \"2\", \"3\", \"4\", \"5\", \"6\", \"7\", \"8\", \"9\", \"10\", \"11\", \"12\", \"13\", \"14\", \"15\", \"16\", \"17\", \"18\", \"19\", \"20\", \"21\", \"22\", \"23\", \"24\", \"25\", \"26\", \"27\", \"28\", \"29\", \"30\", \"31\", \"32\", \"33\", \"36\", \"37\"], \"mode\": \"markers\", \"name\": \"recall_score_micro\", \"stepped\": false, \"type\": \"scatter\", \"data\": [0.7355113322277501, 0.7711000552791598, 0.7548258706467662, 0.7325262576008844, 0.7429076838032062, 0.7072415699281371, 0.7160862354892206, 0.7086898839137645, 0.6537313432835822, 0.7621890547263681, 0.6655610834715311, 0.7383637368711995, 0.7458706467661692, 0.7502929795467109, 0.7458595909342178, 0.7651851851851852, 0.6640796019900497, 0.732415699281371, 0.7681370923161969, 0.6937645107794362, 0.7160530679933665, 0.7413819789939193, 0.6849530127142067, 0.7607075732448868, 0.698253178551686, 0.7190713101160864, 0.7488446655610834, 0.7235157545605306, 0.7012382531785516, 0.6551686014372582, 0.6477501381978994, 0.6997457158651189, 0.7190491984521834, 0.6789828634604754, 0.7859701492537313, 0.7652072968490878]}, {\"categories\": [\"0\", \"1\", \"2\", \"3\", \"4\", \"5\", \"6\", \"7\", \"8\", \"9\", \"10\", \"11\", \"12\", \"13\", \"14\", \"15\", \"16\", \"17\", \"18\", \"19\", \"20\", \"21\", \"22\", \"23\", \"24\", \"25\", \"26\", \"27\", \"28\", \"29\", \"30\", \"31\", \"32\", \"33\", \"36\", \"37\"], \"mode\": \"lines\", \"name\": \"recall_score_micro_max\", \"stepped\": true, \"type\": \"scatter\", \"data\": [0.7355113322277501, 0.7711000552791598, 0.7711000552791598, 0.7711000552791598, 0.7711000552791598, 0.7711000552791598, 0.7711000552791598, 0.7711000552791598, 0.7711000552791598, 0.7711000552791598, 0.7711000552791598, 0.7711000552791598, 0.7711000552791598, 0.7711000552791598, 0.7711000552791598, 0.7711000552791598, 0.7711000552791598, 0.7711000552791598, 0.7711000552791598, 0.7711000552791598, 0.7711000552791598, 0.7711000552791598, 0.7711000552791598, 0.7711000552791598, 0.7711000552791598, 0.7711000552791598, 0.7711000552791598, 0.7711000552791598, 0.7711000552791598, 0.7711000552791598, 0.7711000552791598, 0.7711000552791598, 0.7711000552791598, 0.7711000552791598, 0.7859701492537313, 0.7859701492537313]}], \"log_loss\": [{\"categories\": [\"0\", \"1\", \"2\", \"3\", \"4\", \"5\", \"6\", \"7\", \"8\", \"9\", \"10\", \"11\", \"12\", \"13\", \"14\", \"15\", \"16\", \"17\", \"18\", \"19\", \"20\", \"21\", \"22\", \"23\", \"24\", \"25\", \"26\", \"27\", \"28\", \"29\", \"30\", \"31\", \"32\", \"33\", \"36\", \"37\"], \"mode\": \"markers\", \"name\": \"log_loss\", \"stepped\": false, \"type\": \"scatter\", \"data\": [0.6522848716155387, 0.4972661667283075, 0.49540884415343384, 0.5299510019682809, 0.5121674115710397, 0.5751332934670972, 0.5645857560101248, 0.5581212769960684, 0.6143486697533501, 0.48252620527120615, 0.5704418465200074, 0.5115210871013386, 0.5078827002216517, 0.5124816988198758, 0.5127232481264912, 0.49223639749848863, 0.6011663163728054, 0.5392832562138089, 0.48258551063034927, 0.5860811197030589, 0.555053626358078, 0.5226165570759811, 0.5927167662108205, 0.48255877114428936, 0.6000827171441687, 0.5330026825932943, 0.4817751721484546, 0.5415934570925052, 0.5614563626587956, 0.5937813631255118, 0.6522374204852038, 0.5537648820623495, 0.5712014618171439, 0.5988275986968026, 0.4898432692487833, 0.480699961401308]}, {\"categories\": [\"0\", \"1\", \"2\", \"3\", \"4\", \"5\", \"6\", \"7\", \"8\", \"9\", \"10\", \"11\", \"12\", \"13\", \"14\", \"15\", \"16\", \"17\", \"18\", \"19\", \"20\", \"21\", \"22\", \"23\", \"24\", \"25\", \"26\", \"27\", \"28\", \"29\", \"30\", \"31\", \"32\", \"33\", \"36\", \"37\"], \"mode\": \"lines\", \"name\": \"log_loss_min\", \"stepped\": true, \"type\": \"scatter\", \"data\": [0.6522848716155387, 0.4972661667283075, 0.49540884415343384, 0.49540884415343384, 0.49540884415343384, 0.49540884415343384, 0.49540884415343384, 0.49540884415343384, 0.49540884415343384, 0.48252620527120615, 0.48252620527120615, 0.48252620527120615, 0.48252620527120615, 0.48252620527120615, 0.48252620527120615, 0.48252620527120615, 0.48252620527120615, 0.48252620527120615, 0.48252620527120615, 0.48252620527120615, 0.48252620527120615, 0.48252620527120615, 0.48252620527120615, 0.48252620527120615, 0.48252620527120615, 0.48252620527120615, 0.4817751721484546, 0.4817751721484546, 0.4817751721484546, 0.4817751721484546, 0.4817751721484546, 0.4817751721484546, 0.4817751721484546, 0.4817751721484546, 0.4817751721484546, 0.480699961401308]}], \"average_precision_score_weighted\": [{\"categories\": [\"0\", \"1\", \"2\", \"3\", \"4\", \"5\", \"6\", \"7\", \"8\", \"9\", \"10\", \"11\", \"12\", \"13\", \"14\", \"15\", \"16\", \"17\", \"18\", \"19\", \"20\", \"21\", \"22\", \"23\", \"24\", \"25\", \"26\", \"27\", \"28\", \"29\", \"30\", \"31\", \"32\", \"33\", \"36\", \"37\"], \"mode\": \"markers\", \"name\": \"average_precision_score_weighted\", \"stepped\": false, \"type\": \"scatter\", \"data\": [0.809416119395802, 0.8341517008360373, 0.8343896434893079, 0.814346392609693, 0.82696590581939, 0.8057441358002346, 0.7700161973008022, 0.764704653021481, 0.7178563599014052, 0.836435245561818, 0.8275357160669664, 0.8315938812646714, 0.8186742830423446, 0.8395132694618417, 0.8105356422684957, 0.8276993623192915, 0.744475830901232, 0.8378196719360783, 0.8337446283672758, 0.7445166860403815, 0.7721091975419627, 0.8310655462969381, 0.7241776561722587, 0.8343952537140445, 0.754413355751223, 0.7983248955422616, 0.8388614499050965, 0.8232272664256083, 0.7662267056596908, 0.7984752685049947, 0.5480947146828354, 0.7710600283534883, 0.7573802497100484, 0.7358971575050101, 0.8407774320905496, 0.8382782467306791]}, {\"categories\": [\"0\", \"1\", \"2\", \"3\", \"4\", \"5\", \"6\", \"7\", \"8\", \"9\", \"10\", \"11\", \"12\", \"13\", \"14\", \"15\", \"16\", \"17\", \"18\", \"19\", \"20\", \"21\", \"22\", \"23\", \"24\", \"25\", \"26\", \"27\", \"28\", \"29\", \"30\", \"31\", \"32\", \"33\", \"36\", \"37\"], \"mode\": \"lines\", \"name\": \"average_precision_score_weighted_max\", \"stepped\": true, \"type\": \"scatter\", \"data\": [0.809416119395802, 0.8341517008360373, 0.8343896434893079, 0.8343896434893079, 0.8343896434893079, 0.8343896434893079, 0.8343896434893079, 0.8343896434893079, 0.8343896434893079, 0.836435245561818, 0.836435245561818, 0.836435245561818, 0.836435245561818, 0.8395132694618417, 0.8395132694618417, 0.8395132694618417, 0.8395132694618417, 0.8395132694618417, 0.8395132694618417, 0.8395132694618417, 0.8395132694618417, 0.8395132694618417, 0.8395132694618417, 0.8395132694618417, 0.8395132694618417, 0.8395132694618417, 0.8395132694618417, 0.8395132694618417, 0.8395132694618417, 0.8395132694618417, 0.8395132694618417, 0.8395132694618417, 0.8395132694618417, 0.8395132694618417, 0.8407774320905496, 0.8407774320905496]}], \"f1_score_macro\": [{\"categories\": [\"0\", \"1\", \"2\", \"3\", \"4\", \"5\", \"6\", \"7\", \"8\", \"9\", \"10\", \"11\", \"12\", \"13\", \"14\", \"15\", \"16\", \"17\", \"18\", \"19\", \"20\", \"21\", \"22\", \"23\", \"24\", \"25\", \"26\", \"27\", \"28\", \"29\", \"30\", \"31\", \"32\", \"33\", \"36\", \"37\"], \"mode\": \"markers\", \"name\": \"f1_score_macro\", \"stepped\": false, \"type\": \"scatter\", \"data\": [0.7016007868282129, 0.7418675675100804, 0.709024143713958, 0.6646639789310724, 0.7234831209229202, 0.6921970475367369, 0.6671242811241278, 0.6576539492486999, 0.501652205808555, 0.7248646613786762, 0.4629629437456897, 0.6721256108816285, 0.6934552624990479, 0.6947929800447866, 0.6976848016107231, 0.7240222482175376, 0.4623984363849648, 0.6388980926668555, 0.7327822566971836, 0.6377720866957831, 0.6649503631510963, 0.6717312079980177, 0.6078319910629906, 0.730418486804696, 0.6252164998399264, 0.661503128135021, 0.7182163875313753, 0.6305254992955965, 0.6474580221593913, 0.4213087811947306, 0.392626712204177, 0.6392937023342448, 0.66888254120855, 0.6333717257043174, 0.7496397249399344, 0.7282086064918187]}, {\"categories\": [\"0\", \"1\", \"2\", \"3\", \"4\", \"5\", \"6\", \"7\", \"8\", \"9\", \"10\", \"11\", \"12\", \"13\", \"14\", \"15\", \"16\", \"17\", \"18\", \"19\", \"20\", \"21\", \"22\", \"23\", \"24\", \"25\", \"26\", \"27\", \"28\", \"29\", \"30\", \"31\", \"32\", \"33\", \"36\", \"37\"], \"mode\": \"lines\", \"name\": \"f1_score_macro_max\", \"stepped\": true, \"type\": \"scatter\", \"data\": [0.7016007868282129, 0.7418675675100804, 0.7418675675100804, 0.7418675675100804, 0.7418675675100804, 0.7418675675100804, 0.7418675675100804, 0.7418675675100804, 0.7418675675100804, 0.7418675675100804, 0.7418675675100804, 0.7418675675100804, 0.7418675675100804, 0.7418675675100804, 0.7418675675100804, 0.7418675675100804, 0.7418675675100804, 0.7418675675100804, 0.7418675675100804, 0.7418675675100804, 0.7418675675100804, 0.7418675675100804, 0.7418675675100804, 0.7418675675100804, 0.7418675675100804, 0.7418675675100804, 0.7418675675100804, 0.7418675675100804, 0.7418675675100804, 0.7418675675100804, 0.7418675675100804, 0.7418675675100804, 0.7418675675100804, 0.7418675675100804, 0.7496397249399344, 0.7496397249399344]}], \"recall_score_macro\": [{\"categories\": [\"0\", \"1\", \"2\", \"3\", \"4\", \"5\", \"6\", \"7\", \"8\", \"9\", \"10\", \"11\", \"12\", \"13\", \"14\", \"15\", \"16\", \"17\", \"18\", \"19\", \"20\", \"21\", \"22\", \"23\", \"24\", \"25\", \"26\", \"27\", \"28\", \"29\", \"30\", \"31\", \"32\", \"33\", \"36\", \"37\"], \"mode\": \"markers\", \"name\": \"recall_score_macro\", \"stepped\": false, \"type\": \"scatter\", \"data\": [0.6994599745678126, 0.7395171359207675, 0.7006858934890039, 0.6592709994106724, 0.732372044118683, 0.7083629547138377, 0.6636004996933637, 0.654171267971311, 0.5504814370889421, 0.717693568628428, 0.5308561596938755, 0.665102699786949, 0.6845742471658735, 0.6868389520183549, 0.689869800799143, 0.7146879065546023, 0.5307644884226427, 0.639431578425314, 0.727105619884377, 0.6355630117349442, 0.6598721072605136, 0.6649631763041924, 0.6067900745357984, 0.7285365294013484, 0.62779490685284, 0.6563196168996737, 0.7172231378503879, 0.6313838193591106, 0.6452987963383305, 0.5139191919191919, 0.5, 0.6366350521379471, 0.6652012823918043, 0.6316998132959026, 0.7413623180195146, 0.7228863634674828]}, {\"categories\": [\"0\", \"1\", \"2\", \"3\", \"4\", \"5\", \"6\", \"7\", \"8\", \"9\", \"10\", \"11\", \"12\", \"13\", \"14\", \"15\", \"16\", \"17\", \"18\", \"19\", \"20\", \"21\", \"22\", \"23\", \"24\", \"25\", \"26\", \"27\", \"28\", \"29\", \"30\", \"31\", \"32\", \"33\", \"36\", \"37\"], \"mode\": \"lines\", \"name\": \"recall_score_macro_max\", \"stepped\": true, \"type\": \"scatter\", \"data\": [0.6994599745678126, 0.7395171359207675, 0.7395171359207675, 0.7395171359207675, 0.7395171359207675, 0.7395171359207675, 0.7395171359207675, 0.7395171359207675, 0.7395171359207675, 0.7395171359207675, 0.7395171359207675, 0.7395171359207675, 0.7395171359207675, 0.7395171359207675, 0.7395171359207675, 0.7395171359207675, 0.7395171359207675, 0.7395171359207675, 0.7395171359207675, 0.7395171359207675, 0.7395171359207675, 0.7395171359207675, 0.7395171359207675, 0.7395171359207675, 0.7395171359207675, 0.7395171359207675, 0.7395171359207675, 0.7395171359207675, 0.7395171359207675, 0.7395171359207675, 0.7395171359207675, 0.7395171359207675, 0.7395171359207675, 0.7395171359207675, 0.7413623180195146, 0.7413623180195146]}], \"precision_score_micro\": [{\"categories\": [\"0\", \"1\", \"2\", \"3\", \"4\", \"5\", \"6\", \"7\", \"8\", \"9\", \"10\", \"11\", \"12\", \"13\", \"14\", \"15\", \"16\", \"17\", \"18\", \"19\", \"20\", \"21\", \"22\", \"23\", \"24\", \"25\", \"26\", \"27\", \"28\", \"29\", \"30\", \"31\", \"32\", \"33\", \"36\", \"37\"], \"mode\": \"markers\", \"name\": \"precision_score_micro\", \"stepped\": false, \"type\": \"scatter\", \"data\": [0.7355113322277501, 0.7711000552791598, 0.7548258706467662, 0.7325262576008844, 0.7429076838032062, 0.7072415699281371, 0.7160862354892206, 0.7086898839137645, 0.6537313432835822, 0.7621890547263681, 0.6655610834715311, 0.7383637368711995, 0.7458706467661692, 0.7502929795467109, 0.7458595909342178, 0.7651851851851852, 0.6640796019900497, 0.732415699281371, 0.7681370923161969, 0.6937645107794362, 0.7160530679933665, 0.7413819789939193, 0.6849530127142067, 0.7607075732448868, 0.698253178551686, 0.7190713101160864, 0.7488446655610834, 0.7235157545605306, 0.7012382531785516, 0.6551686014372582, 0.6477501381978994, 0.6997457158651189, 0.7190491984521834, 0.6789828634604754, 0.7859701492537313, 0.7652072968490878]}, {\"categories\": [\"0\", \"1\", \"2\", \"3\", \"4\", \"5\", \"6\", \"7\", \"8\", \"9\", \"10\", \"11\", \"12\", \"13\", \"14\", \"15\", \"16\", \"17\", \"18\", \"19\", \"20\", \"21\", \"22\", \"23\", \"24\", \"25\", \"26\", \"27\", \"28\", \"29\", \"30\", \"31\", \"32\", \"33\", \"36\", \"37\"], \"mode\": \"lines\", \"name\": \"precision_score_micro_max\", \"stepped\": true, \"type\": \"scatter\", \"data\": [0.7355113322277501, 0.7711000552791598, 0.7711000552791598, 0.7711000552791598, 0.7711000552791598, 0.7711000552791598, 0.7711000552791598, 0.7711000552791598, 0.7711000552791598, 0.7711000552791598, 0.7711000552791598, 0.7711000552791598, 0.7711000552791598, 0.7711000552791598, 0.7711000552791598, 0.7711000552791598, 0.7711000552791598, 0.7711000552791598, 0.7711000552791598, 0.7711000552791598, 0.7711000552791598, 0.7711000552791598, 0.7711000552791598, 0.7711000552791598, 0.7711000552791598, 0.7711000552791598, 0.7711000552791598, 0.7711000552791598, 0.7711000552791598, 0.7711000552791598, 0.7711000552791598, 0.7711000552791598, 0.7711000552791598, 0.7711000552791598, 0.7859701492537313, 0.7859701492537313]}]}, \"metricName\": null, \"primaryMetricName\": \"accuracy\", \"showLegend\": false}, \"run_metrics\": [{\"name\": \"experiment_status\", \"run_id\": \"AutoML_6d887152-79c9-442a-a385-9472117cfed6\", \"categories\": [0, 1, 2, 3, 4, 5, 6, 7, 8, 9, 10, 11, 12, 13], \"series\": [{\"data\": [\"DatasetEvaluation\", \"FeaturesGeneration\", \"DatasetFeaturization\", \"DatasetFeaturizationCompleted\", \"DatasetCrossValidationSplit\", \"ModelSelection\", \"BestRunExplainModel\", \"ModelExplanationDataSetSetup\", \"PickSurrogateModel\", \"EngineeredFeatureExplanations\", \"EngineeredFeatureExplanations\", \"RawFeaturesExplanations\", \"RawFeaturesExplanations\", \"BestRunExplainModel\"]}]}, {\"name\": \"experiment_status_description\", \"run_id\": \"AutoML_6d887152-79c9-442a-a385-9472117cfed6\", \"categories\": [0, 1, 2, 3, 4, 5, 6, 7, 8, 9, 10, 11, 12, 13], \"series\": [{\"data\": [\"Gathering dataset statistics.\", \"Generating features for the dataset.\", \"Beginning to fit featurizers and featurize the dataset.\", \"Completed fit featurizers and featurizing the dataset.\", \"Generating individually featurized CV splits.\", \"Beginning model selection.\", \"Best run model explanations started\", \"Model explanations data setup completed\", \"Choosing LightGBM as the surrogate model for explanations\", \"Computation of engineered features started\", \"Computation of engineered features completed\", \"Computation of raw features started\", \"Computation of raw features completed\", \"Best run model explanations completed\"]}]}, {\"name\": \"precision_score_weighted\", \"run_id\": \"AutoML_6d887152-79c9-442a-a385-9472117cfed6\", \"categories\": [0], \"series\": [{\"data\": [0.7857955699664865]}]}, {\"name\": \"recall_score_macro\", \"run_id\": \"AutoML_6d887152-79c9-442a-a385-9472117cfed6\", \"categories\": [0], \"series\": [{\"data\": [0.7413623180195146]}]}, {\"name\": \"precision_score_macro\", \"run_id\": \"AutoML_6d887152-79c9-442a-a385-9472117cfed6\", \"categories\": [0], \"series\": [{\"data\": [0.7768453127581295]}]}, {\"name\": \"precision_score_micro\", \"run_id\": \"AutoML_6d887152-79c9-442a-a385-9472117cfed6\", \"categories\": [0], \"series\": [{\"data\": [0.7859701492537313]}]}, {\"name\": \"recall_score_weighted\", \"run_id\": \"AutoML_6d887152-79c9-442a-a385-9472117cfed6\", \"categories\": [0], \"series\": [{\"data\": [0.7859701492537313]}]}, {\"name\": \"accuracy\", \"run_id\": \"AutoML_6d887152-79c9-442a-a385-9472117cfed6\", \"categories\": [0], \"series\": [{\"data\": [0.7859701492537313]}]}, {\"name\": \"AUC_micro\", \"run_id\": \"AutoML_6d887152-79c9-442a-a385-9472117cfed6\", \"categories\": [0], \"series\": [{\"data\": [0.8515787092423149]}]}, {\"name\": \"weighted_accuracy\", \"run_id\": \"AutoML_6d887152-79c9-442a-a385-9472117cfed6\", \"categories\": [0], \"series\": [{\"data\": [0.8214581436414153]}]}, {\"name\": \"matthews_correlation\", \"run_id\": \"AutoML_6d887152-79c9-442a-a385-9472117cfed6\", \"categories\": [0], \"series\": [{\"data\": [0.5164834087970864]}]}, {\"name\": \"AUC_weighted\", \"run_id\": \"AutoML_6d887152-79c9-442a-a385-9472117cfed6\", \"categories\": [0], \"series\": [{\"data\": [0.8302014284310048]}]}, {\"name\": \"average_precision_score_macro\", \"run_id\": \"AutoML_6d887152-79c9-442a-a385-9472117cfed6\", \"categories\": [0], \"series\": [{\"data\": [0.8137278161788062]}]}, {\"name\": \"f1_score_macro\", \"run_id\": \"AutoML_6d887152-79c9-442a-a385-9472117cfed6\", \"categories\": [0], \"series\": [{\"data\": [0.7496397249399344]}]}, {\"name\": \"balanced_accuracy\", \"run_id\": \"AutoML_6d887152-79c9-442a-a385-9472117cfed6\", \"categories\": [0], \"series\": [{\"data\": [0.7413623180195146]}]}, {\"name\": \"log_loss\", \"run_id\": \"AutoML_6d887152-79c9-442a-a385-9472117cfed6\", \"categories\": [0], \"series\": [{\"data\": [0.4898432692487833]}]}, {\"name\": \"f1_score_micro\", \"run_id\": \"AutoML_6d887152-79c9-442a-a385-9472117cfed6\", \"categories\": [0], \"series\": [{\"data\": [0.7859701492537313]}]}, {\"name\": \"recall_score_micro\", \"run_id\": \"AutoML_6d887152-79c9-442a-a385-9472117cfed6\", \"categories\": [0], \"series\": [{\"data\": [0.7859701492537313]}]}, {\"name\": \"norm_macro_recall\", \"run_id\": \"AutoML_6d887152-79c9-442a-a385-9472117cfed6\", \"categories\": [0], \"series\": [{\"data\": [0.48272463603902926]}]}, {\"name\": \"average_precision_score_weighted\", \"run_id\": \"AutoML_6d887152-79c9-442a-a385-9472117cfed6\", \"categories\": [0], \"series\": [{\"data\": [0.8407774320905496]}]}, {\"name\": \"f1_score_weighted\", \"run_id\": \"AutoML_6d887152-79c9-442a-a385-9472117cfed6\", \"categories\": [0], \"series\": [{\"data\": [0.7777481735677247]}]}, {\"name\": \"AUC_macro\", \"run_id\": \"AutoML_6d887152-79c9-442a-a385-9472117cfed6\", \"categories\": [0], \"series\": [{\"data\": [0.8302014284310048]}]}, {\"name\": \"average_precision_score_micro\", \"run_id\": \"AutoML_6d887152-79c9-442a-a385-9472117cfed6\", \"categories\": [0], \"series\": [{\"data\": [0.8514518357812311]}]}], \"run_logs\": \"\\nRun is completed.\", \"graph\": {}, \"widget_settings\": {\"childWidgetDisplay\": \"popup\", \"send_telemetry\": false, \"log_level\": \"INFO\", \"sdk_version\": \"1.20.0\"}, \"loading\": false}"
     },
     "metadata": {},
     "output_type": "display_data"
    }
   ],
   "source": [
    "RunDetails(remote_run).show()"
   ]
  },
  {
   "cell_type": "code",
   "execution_count": 16,
   "metadata": {},
   "outputs": [
    {
     "data": {
      "text/plain": [
       "{'runId': 'AutoML_6d887152-79c9-442a-a385-9472117cfed6',\n",
       " 'target': 'cpu-cluster',\n",
       " 'status': 'Completed',\n",
       " 'startTimeUtc': '2021-01-27T15:44:39.943763Z',\n",
       " 'endTimeUtc': '2021-01-27T16:06:33.707523Z',\n",
       " 'properties': {'num_iterations': '1000',\n",
       "  'training_type': 'TrainFull',\n",
       "  'acquisition_function': 'EI',\n",
       "  'primary_metric': 'accuracy',\n",
       "  'train_split': '0',\n",
       "  'acquisition_parameter': '0',\n",
       "  'num_cross_validation': '5',\n",
       "  'target': 'cpu-cluster',\n",
       "  'AMLSettingsJsonString': '{\"path\":null,\"name\":\"automl-diabetes-experiment\",\"subscription_id\":\"b968fb36-f06a-4c76-a15f-afab68ae7667\",\"resource_group\":\"aml-quickstarts-136277\",\"workspace_name\":\"quick-starts-ws-136277\",\"region\":\"southcentralus\",\"compute_target\":\"cpu-cluster\",\"spark_service\":null,\"azure_service\":\"remote\",\"many_models\":false,\"pipeline_fetch_max_batch_size\":1,\"iterations\":1000,\"primary_metric\":\"accuracy\",\"task_type\":\"classification\",\"data_script\":null,\"validation_size\":0.0,\"n_cross_validations\":5,\"y_min\":null,\"y_max\":null,\"num_classes\":null,\"featurization\":\"auto\",\"_ignore_package_version_incompatibilities\":false,\"is_timeseries\":false,\"max_cores_per_iteration\":1,\"max_concurrent_iterations\":4,\"iteration_timeout_minutes\":null,\"mem_in_mb\":null,\"enforce_time_on_windows\":false,\"experiment_timeout_minutes\":30,\"experiment_exit_score\":null,\"whitelist_models\":null,\"blacklist_algos\":[\"TensorFlowLinearClassifier\",\"TensorFlowDNN\"],\"supported_models\":[\"TensorFlowLinearClassifier\",\"XGBoostClassifier\",\"KNN\",\"RandomForest\",\"BernoulliNaiveBayes\",\"LightGBM\",\"SVM\",\"SGD\",\"TensorFlowDNN\",\"LinearSVM\",\"AveragedPerceptronClassifier\",\"DecisionTree\",\"ExtremeRandomTrees\",\"GradientBoosting\",\"MultinomialNaiveBayes\",\"LogisticRegression\"],\"auto_blacklist\":true,\"blacklist_samples_reached\":false,\"exclude_nan_labels\":true,\"verbosity\":20,\"_debug_log\":\"azureml_automl.log\",\"show_warnings\":false,\"model_explainability\":true,\"service_url\":null,\"sdk_url\":null,\"sdk_packages\":null,\"enable_onnx_compatible_models\":false,\"enable_split_onnx_featurizer_estimator_models\":false,\"vm_type\":\"STANDARD_D12_V2\",\"telemetry_verbosity\":20,\"send_telemetry\":true,\"enable_dnn\":false,\"scenario\":\"SDK-1.13.0\",\"environment_label\":null,\"force_text_dnn\":false,\"enable_feature_sweeping\":true,\"enable_early_stopping\":true,\"early_stopping_n_iters\":10,\"metrics\":null,\"enable_ensembling\":true,\"enable_stack_ensembling\":true,\"ensemble_iterations\":15,\"enable_tf\":false,\"enable_subsampling\":null,\"subsample_seed\":null,\"enable_nimbusml\":false,\"enable_streaming\":false,\"force_streaming\":false,\"track_child_runs\":true,\"allowed_private_models\":[],\"label_column_name\":\"Outcome\",\"weight_column_name\":null,\"cv_split_column_names\":null,\"enable_local_managed\":false,\"_local_managed_run_id\":null,\"cost_mode\":1,\"lag_length\":0,\"metric_operation\":\"maximize\",\"preprocess\":true}',\n",
       "  'DataPrepJsonString': '{\\\\\"training_data\\\\\": \\\\\"{\\\\\\\\\\\\\"blocks\\\\\\\\\\\\\": [{\\\\\\\\\\\\\"id\\\\\\\\\\\\\": \\\\\\\\\\\\\"6d336b5b-ac50-4ce4-88a5-24b56b6463f1\\\\\\\\\\\\\", \\\\\\\\\\\\\"type\\\\\\\\\\\\\": \\\\\\\\\\\\\"Microsoft.DPrep.GetDatastoreFilesBlock\\\\\\\\\\\\\", \\\\\\\\\\\\\"arguments\\\\\\\\\\\\\": {\\\\\\\\\\\\\"datastores\\\\\\\\\\\\\": [{\\\\\\\\\\\\\"datastoreName\\\\\\\\\\\\\": \\\\\\\\\\\\\"workspaceblobstore\\\\\\\\\\\\\", \\\\\\\\\\\\\"path\\\\\\\\\\\\\": \\\\\\\\\\\\\"UI/01-27-2021_034209_UTC/diabetes.csv\\\\\\\\\\\\\", \\\\\\\\\\\\\"resourceGroup\\\\\\\\\\\\\": \\\\\\\\\\\\\"aml-quickstarts-136277\\\\\\\\\\\\\", \\\\\\\\\\\\\"subscription\\\\\\\\\\\\\": \\\\\\\\\\\\\"b968fb36-f06a-4c76-a15f-afab68ae7667\\\\\\\\\\\\\", \\\\\\\\\\\\\"workspaceName\\\\\\\\\\\\\": \\\\\\\\\\\\\"quick-starts-ws-136277\\\\\\\\\\\\\"}]}, \\\\\\\\\\\\\"localData\\\\\\\\\\\\\": {}, \\\\\\\\\\\\\"isEnabled\\\\\\\\\\\\\": true, \\\\\\\\\\\\\"name\\\\\\\\\\\\\": null, \\\\\\\\\\\\\"annotation\\\\\\\\\\\\\": null}, {\\\\\\\\\\\\\"id\\\\\\\\\\\\\": \\\\\\\\\\\\\"3f171a95-b892-480e-9cca-0cfa06f37db9\\\\\\\\\\\\\", \\\\\\\\\\\\\"type\\\\\\\\\\\\\": \\\\\\\\\\\\\"Microsoft.DPrep.ParseDelimitedBlock\\\\\\\\\\\\\", \\\\\\\\\\\\\"arguments\\\\\\\\\\\\\": {\\\\\\\\\\\\\"columnHeadersMode\\\\\\\\\\\\\": 1, \\\\\\\\\\\\\"fileEncoding\\\\\\\\\\\\\": 0, \\\\\\\\\\\\\"handleQuotedLineBreaks\\\\\\\\\\\\\": false, \\\\\\\\\\\\\"preview\\\\\\\\\\\\\": false, \\\\\\\\\\\\\"separator\\\\\\\\\\\\\": \\\\\\\\\\\\\",\\\\\\\\\\\\\", \\\\\\\\\\\\\"skipRows\\\\\\\\\\\\\": 0, \\\\\\\\\\\\\"skipRowsMode\\\\\\\\\\\\\": 0}, \\\\\\\\\\\\\"localData\\\\\\\\\\\\\": {}, \\\\\\\\\\\\\"isEnabled\\\\\\\\\\\\\": true, \\\\\\\\\\\\\"name\\\\\\\\\\\\\": null, \\\\\\\\\\\\\"annotation\\\\\\\\\\\\\": null}, {\\\\\\\\\\\\\"id\\\\\\\\\\\\\": \\\\\\\\\\\\\"56c2f1ca-9756-4066-9a50-c34b82ff0ace\\\\\\\\\\\\\", \\\\\\\\\\\\\"type\\\\\\\\\\\\\": \\\\\\\\\\\\\"Microsoft.DPrep.DropColumnsBlock\\\\\\\\\\\\\", \\\\\\\\\\\\\"arguments\\\\\\\\\\\\\": {\\\\\\\\\\\\\"columns\\\\\\\\\\\\\": {\\\\\\\\\\\\\"type\\\\\\\\\\\\\": 0, \\\\\\\\\\\\\"details\\\\\\\\\\\\\": {\\\\\\\\\\\\\"selectedColumns\\\\\\\\\\\\\": [\\\\\\\\\\\\\"Path\\\\\\\\\\\\\"]}}}, \\\\\\\\\\\\\"localData\\\\\\\\\\\\\": {}, \\\\\\\\\\\\\"isEnabled\\\\\\\\\\\\\": true, \\\\\\\\\\\\\"name\\\\\\\\\\\\\": null, \\\\\\\\\\\\\"annotation\\\\\\\\\\\\\": null}, {\\\\\\\\\\\\\"id\\\\\\\\\\\\\": \\\\\\\\\\\\\"1709933a-8dc6-47e9-a2cd-4717deb2f041\\\\\\\\\\\\\", \\\\\\\\\\\\\"type\\\\\\\\\\\\\": \\\\\\\\\\\\\"Microsoft.DPrep.SetColumnTypesBlock\\\\\\\\\\\\\", \\\\\\\\\\\\\"arguments\\\\\\\\\\\\\": {\\\\\\\\\\\\\"columnConversion\\\\\\\\\\\\\": [{\\\\\\\\\\\\\"column\\\\\\\\\\\\\": {\\\\\\\\\\\\\"type\\\\\\\\\\\\\": 2, \\\\\\\\\\\\\"details\\\\\\\\\\\\\": {\\\\\\\\\\\\\"selectedColumn\\\\\\\\\\\\\": \\\\\\\\\\\\\"Path\\\\\\\\\\\\\"}}, \\\\\\\\\\\\\"typeProperty\\\\\\\\\\\\\": 0}, {\\\\\\\\\\\\\"column\\\\\\\\\\\\\": {\\\\\\\\\\\\\"type\\\\\\\\\\\\\": 2, \\\\\\\\\\\\\"details\\\\\\\\\\\\\": {\\\\\\\\\\\\\"selectedColumn\\\\\\\\\\\\\": \\\\\\\\\\\\\"Pregnancies\\\\\\\\\\\\\"}}, \\\\\\\\\\\\\"typeProperty\\\\\\\\\\\\\": 2}, {\\\\\\\\\\\\\"column\\\\\\\\\\\\\": {\\\\\\\\\\\\\"type\\\\\\\\\\\\\": 2, \\\\\\\\\\\\\"details\\\\\\\\\\\\\": {\\\\\\\\\\\\\"selectedColumn\\\\\\\\\\\\\": \\\\\\\\\\\\\"Glucose\\\\\\\\\\\\\"}}, \\\\\\\\\\\\\"typeProperty\\\\\\\\\\\\\": 2}, {\\\\\\\\\\\\\"column\\\\\\\\\\\\\": {\\\\\\\\\\\\\"type\\\\\\\\\\\\\": 2, \\\\\\\\\\\\\"details\\\\\\\\\\\\\": {\\\\\\\\\\\\\"selectedColumn\\\\\\\\\\\\\": \\\\\\\\\\\\\"BloodPressure\\\\\\\\\\\\\"}}, \\\\\\\\\\\\\"typeProperty\\\\\\\\\\\\\": 2}, {\\\\\\\\\\\\\"column\\\\\\\\\\\\\": {\\\\\\\\\\\\\"type\\\\\\\\\\\\\": 2, \\\\\\\\\\\\\"details\\\\\\\\\\\\\": {\\\\\\\\\\\\\"selectedColumn\\\\\\\\\\\\\": \\\\\\\\\\\\\"SkinThickness\\\\\\\\\\\\\"}}, \\\\\\\\\\\\\"typeProperty\\\\\\\\\\\\\": 2}, {\\\\\\\\\\\\\"column\\\\\\\\\\\\\": {\\\\\\\\\\\\\"type\\\\\\\\\\\\\": 2, \\\\\\\\\\\\\"details\\\\\\\\\\\\\": {\\\\\\\\\\\\\"selectedColumn\\\\\\\\\\\\\": \\\\\\\\\\\\\"Insulin\\\\\\\\\\\\\"}}, \\\\\\\\\\\\\"typeProperty\\\\\\\\\\\\\": 2}, {\\\\\\\\\\\\\"column\\\\\\\\\\\\\": {\\\\\\\\\\\\\"type\\\\\\\\\\\\\": 2, \\\\\\\\\\\\\"details\\\\\\\\\\\\\": {\\\\\\\\\\\\\"selectedColumn\\\\\\\\\\\\\": \\\\\\\\\\\\\"BMI\\\\\\\\\\\\\"}}, \\\\\\\\\\\\\"typeProperty\\\\\\\\\\\\\": 3}, {\\\\\\\\\\\\\"column\\\\\\\\\\\\\": {\\\\\\\\\\\\\"type\\\\\\\\\\\\\": 2, \\\\\\\\\\\\\"details\\\\\\\\\\\\\": {\\\\\\\\\\\\\"selectedColumn\\\\\\\\\\\\\": \\\\\\\\\\\\\"DiabetesPedigreeFunction\\\\\\\\\\\\\"}}, \\\\\\\\\\\\\"typeProperty\\\\\\\\\\\\\": 3}, {\\\\\\\\\\\\\"column\\\\\\\\\\\\\": {\\\\\\\\\\\\\"type\\\\\\\\\\\\\": 2, \\\\\\\\\\\\\"details\\\\\\\\\\\\\": {\\\\\\\\\\\\\"selectedColumn\\\\\\\\\\\\\": \\\\\\\\\\\\\"Age\\\\\\\\\\\\\"}}, \\\\\\\\\\\\\"typeProperty\\\\\\\\\\\\\": 2}, {\\\\\\\\\\\\\"column\\\\\\\\\\\\\": {\\\\\\\\\\\\\"type\\\\\\\\\\\\\": 2, \\\\\\\\\\\\\"details\\\\\\\\\\\\\": {\\\\\\\\\\\\\"selectedColumn\\\\\\\\\\\\\": \\\\\\\\\\\\\"Outcome\\\\\\\\\\\\\"}}, \\\\\\\\\\\\\"typeProperty\\\\\\\\\\\\\": 2}]}, \\\\\\\\\\\\\"localData\\\\\\\\\\\\\": {}, \\\\\\\\\\\\\"isEnabled\\\\\\\\\\\\\": true, \\\\\\\\\\\\\"name\\\\\\\\\\\\\": null, \\\\\\\\\\\\\"annotation\\\\\\\\\\\\\": null}, {\\\\\\\\\\\\\"id\\\\\\\\\\\\\": \\\\\\\\\\\\\"465cbc6d-cc33-4af5-8a72-582f136cb4e6\\\\\\\\\\\\\", \\\\\\\\\\\\\"type\\\\\\\\\\\\\": \\\\\\\\\\\\\"Microsoft.DPrep.TakeSampleBlock\\\\\\\\\\\\\", \\\\\\\\\\\\\"arguments\\\\\\\\\\\\\": {\\\\\\\\\\\\\"probability\\\\\\\\\\\\\": 0.9, \\\\\\\\\\\\\"probabilityLowerBound\\\\\\\\\\\\\": 0.0, \\\\\\\\\\\\\"seed\\\\\\\\\\\\\": 880188903}, \\\\\\\\\\\\\"localData\\\\\\\\\\\\\": {}, \\\\\\\\\\\\\"isEnabled\\\\\\\\\\\\\": true, \\\\\\\\\\\\\"name\\\\\\\\\\\\\": null, \\\\\\\\\\\\\"annotation\\\\\\\\\\\\\": null}], \\\\\\\\\\\\\"inspectors\\\\\\\\\\\\\": [], \\\\\\\\\\\\\"meta\\\\\\\\\\\\\": {\\\\\\\\\\\\\"savedDatasetId\\\\\\\\\\\\\": \\\\\\\\\\\\\"a50aa439-5f25-4444-b7dd-8109fbee2503\\\\\\\\\\\\\", \\\\\\\\\\\\\"datasetType\\\\\\\\\\\\\": \\\\\\\\\\\\\"tabular\\\\\\\\\\\\\", \\\\\\\\\\\\\"subscriptionId\\\\\\\\\\\\\": \\\\\\\\\\\\\"b968fb36-f06a-4c76-a15f-afab68ae7667\\\\\\\\\\\\\", \\\\\\\\\\\\\"workspaceId\\\\\\\\\\\\\": \\\\\\\\\\\\\"1f7fa867-27b2-420a-9dec-5cdf6d554e6f\\\\\\\\\\\\\", \\\\\\\\\\\\\"workspaceLocation\\\\\\\\\\\\\": \\\\\\\\\\\\\"southcentralus\\\\\\\\\\\\\"}}\\\\\", \\\\\"activities\\\\\": 0}',\n",
       "  'EnableSubsampling': None,\n",
       "  'runTemplate': 'AutoML',\n",
       "  'azureml.runsource': 'automl',\n",
       "  'display_task_type': 'classification',\n",
       "  'dependencies_versions': '{\"azureml-widgets\": \"1.20.0\", \"azureml-train\": \"1.20.0\", \"azureml-train-restclients-hyperdrive\": \"1.20.0\", \"azureml-train-core\": \"1.20.0\", \"azureml-train-automl\": \"1.20.0\", \"azureml-train-automl-runtime\": \"1.20.0\", \"azureml-train-automl-client\": \"1.20.0\", \"azureml-tensorboard\": \"1.20.0\", \"azureml-telemetry\": \"1.20.0\", \"azureml-sdk\": \"1.20.0\", \"azureml-samples\": \"0+unknown\", \"azureml-pipeline\": \"1.20.0\", \"azureml-pipeline-steps\": \"1.20.0\", \"azureml-pipeline-core\": \"1.20.0\", \"azureml-opendatasets\": \"1.20.0\", \"azureml-model-management-sdk\": \"1.0.1b6.post1\", \"azureml-mlflow\": \"1.20.0.post1\", \"azureml-interpret\": \"1.20.0\", \"azureml-explain-model\": \"1.20.0\", \"azureml-defaults\": \"1.20.0\", \"azureml-dataset-runtime\": \"1.20.0\", \"azureml-dataprep\": \"2.7.3\", \"azureml-dataprep-rslex\": \"1.5.0\", \"azureml-dataprep-native\": \"27.0.0\", \"azureml-datadrift\": \"1.20.0\", \"azureml-core\": \"1.20.0\", \"azureml-contrib-services\": \"1.20.0\", \"azureml-contrib-server\": \"1.20.0\", \"azureml-contrib-reinforcementlearning\": \"1.20.0\", \"azureml-contrib-pipeline-steps\": \"1.20.0\", \"azureml-contrib-notebook\": \"1.20.0\", \"azureml-contrib-interpret\": \"1.20.0\", \"azureml-contrib-gbdt\": \"1.20.0\", \"azureml-contrib-fairness\": \"1.20.0\", \"azureml-contrib-dataset\": \"1.20.0\", \"azureml-cli-common\": \"1.20.0\", \"azureml-automl-runtime\": \"1.20.0\", \"azureml-automl-core\": \"1.20.0\", \"azureml-accel-models\": \"1.20.0\"}',\n",
       "  '_aml_system_scenario_identification': 'Remote.Parent',\n",
       "  'ClientType': 'SDK',\n",
       "  'environment_cpu_name': 'AzureML-AutoML',\n",
       "  'environment_cpu_label': 'prod',\n",
       "  'environment_gpu_name': 'AzureML-AutoML-GPU',\n",
       "  'environment_gpu_label': 'prod',\n",
       "  'root_attribution': 'automl',\n",
       "  'attribution': 'AutoML',\n",
       "  'Orchestrator': 'AutoML',\n",
       "  'CancelUri': 'https://southcentralus.experiments.azureml.net/jasmine/v1.0/subscriptions/b968fb36-f06a-4c76-a15f-afab68ae7667/resourceGroups/aml-quickstarts-136277/providers/Microsoft.MachineLearningServices/workspaces/quick-starts-ws-136277/experimentids/413910bb-c612-4734-a9d3-35076a1211ce/cancel/AutoML_6d887152-79c9-442a-a385-9472117cfed6',\n",
       "  'ClientSdkVersion': '1.20.0.post1',\n",
       "  'snapshotId': '00000000-0000-0000-0000-000000000000',\n",
       "  'SetupRunId': 'AutoML_6d887152-79c9-442a-a385-9472117cfed6_setup',\n",
       "  'SetupRunContainerId': 'dcid.AutoML_6d887152-79c9-442a-a385-9472117cfed6_setup',\n",
       "  'FeaturizationRunJsonPath': 'featurizer_container.json',\n",
       "  'FeaturizationRunId': 'AutoML_6d887152-79c9-442a-a385-9472117cfed6_featurize',\n",
       "  'ProblemInfoJsonString': '{\"dataset_num_categorical\": 0, \"is_sparse\": true, \"subsampling\": false, \"dataset_classes\": 2, \"dataset_features\": 24, \"dataset_samples\": 673, \"single_frequency_class_detected\": false}',\n",
       "  'ModelExplainRunId': 'AutoML_6d887152-79c9-442a-a385-9472117cfed6_ModelExplain'},\n",
       " 'inputDatasets': [{'dataset': {'id': 'a50aa439-5f25-4444-b7dd-8109fbee2503'}, 'consumptionDetails': {'type': 'RunInput', 'inputName': 'training_data', 'mechanism': 'Direct'}}],\n",
       " 'outputDatasets': [],\n",
       " 'logFiles': {},\n",
       " 'submittedBy': 'ODL_User 136277'}"
      ]
     },
     "execution_count": 16,
     "metadata": {},
     "output_type": "execute_result"
    }
   ],
   "source": [
    "remote_run.wait_for_completion()"
   ]
  },
  {
   "cell_type": "markdown",
   "metadata": {},
   "source": [
    "## Create an enviroment"
   ]
  },
  {
   "cell_type": "code",
   "execution_count": 17,
   "metadata": {},
   "outputs": [
    {
     "name": "stdout",
     "output_type": "stream",
     "text": [
      "Writing conda_dependencies.yml\n"
     ]
    }
   ],
   "source": [
    "%%writefile conda_dependencies.yml\n",
    "\n",
    "dependencies:\n",
    "- python=3.6.2\n",
    "- pip=20.2.4\n",
    "- pip:\n",
    "  - azureml-core==1.20.0\n",
    "  - azureml-pipeline-core==1.20.0\n",
    "  - azureml-telemetry==1.20.0\n",
    "  - azureml-defaults==1.20.0\n",
    "  - azureml-interpret==1.20.0\n",
    "  - azureml-automl-core==1.20.0\n",
    "  - azureml-automl-runtime==1.20.0\n",
    "  - azureml-train-automl-client==1.20.0\n",
    "  - azureml-train-automl-runtime==1.20.0.post1\n",
    "  - azureml-dataset-runtime==1.20.0\n",
    "  - inference-schema\n",
    "  - py-cpuinfo==5.0.0\n",
    "  - boto3==1.15.18\n",
    "  - botocore==1.18.18\n",
    "- numpy~=1.18.0\n",
    "- scikit-learn==0.22.1\n",
    "- pandas~=0.25.0\n",
    "- fbprophet==0.5\n",
    "- holidays==0.9.11\n",
    "- setuptools-git\n",
    "- psutil>5.0.0,<6.0.0"
   ]
  },
  {
   "cell_type": "code",
   "execution_count": 18,
   "metadata": {},
   "outputs": [],
   "source": [
    "from azureml.core import Environment\n",
    "from azureml.core.conda_dependencies import CondaDependencies\n",
    "\n",
    "env = Environment.get(workspace=ws, name=\"AzureML-AutoML\")"
   ]
  },
  {
   "cell_type": "markdown",
   "metadata": {},
   "source": [
    "## Best Model\n",
    "\n",
    "TODO: In the cell below, get the best model from the automl experiments and display all the properties of the model.\n",
    "\n"
   ]
  },
  {
   "cell_type": "code",
   "execution_count": 19,
   "metadata": {
    "gather": {
     "logged": 1598431425670
    },
    "jupyter": {
     "outputs_hidden": false,
     "source_hidden": false
    },
    "nteract": {
     "transient": {
      "deleting": false
     }
    }
   },
   "outputs": [],
   "source": [
    "best_run, fitted_model = remote_run.get_output()\n",
    "best_run_metrics = best_run.get_metrics()\n"
   ]
  },
  {
   "cell_type": "code",
   "execution_count": 20,
   "metadata": {},
   "outputs": [
    {
     "data": {
      "text/html": [
       "<table style=\"width:100%\"><tr><th>Experiment</th><th>Id</th><th>Type</th><th>Status</th><th>Details Page</th><th>Docs Page</th></tr><tr><td>automl-diabetes-experiment</td><td>AutoML_6d887152-79c9-442a-a385-9472117cfed6_36</td><td>azureml.scriptrun</td><td>Completed</td><td><a href=\"https://ml.azure.com/experiments/automl-diabetes-experiment/runs/AutoML_6d887152-79c9-442a-a385-9472117cfed6_36?wsid=/subscriptions/b968fb36-f06a-4c76-a15f-afab68ae7667/resourcegroups/aml-quickstarts-136277/workspaces/quick-starts-ws-136277\" target=\"_blank\" rel=\"noopener\">Link to Azure Machine Learning studio</a></td><td><a href=\"https://docs.microsoft.com/en-us/python/api/azureml-core/azureml.core.run.Run?view=azure-ml-py\" target=\"_blank\" rel=\"noopener\">Link to Documentation</a></td></tr></table>"
      ],
      "text/plain": [
       "Run(Experiment: automl-diabetes-experiment,\n",
       "Id: AutoML_6d887152-79c9-442a-a385-9472117cfed6_36,\n",
       "Type: azureml.scriptrun,\n",
       "Status: Completed)"
      ]
     },
     "execution_count": 20,
     "metadata": {},
     "output_type": "execute_result"
    }
   ],
   "source": [
    "best_run"
   ]
  },
  {
   "cell_type": "code",
   "execution_count": 21,
   "metadata": {},
   "outputs": [
    {
     "data": {
      "text/plain": [
       "Pipeline(memory=None,\n",
       "         steps=[('datatransformer',\n",
       "                 DataTransformer(enable_dnn=None, enable_feature_sweeping=None,\n",
       "                                 feature_sweeping_config=None,\n",
       "                                 feature_sweeping_timeout=None,\n",
       "                                 featurization_config=None, force_text_dnn=None,\n",
       "                                 is_cross_validation=None,\n",
       "                                 is_onnx_compatible=None, logger=None,\n",
       "                                 observer=None, task=None, working_dir=None)),\n",
       "                ('prefittedsoftvotingclassifier',...\n",
       "                                                                                               tree_method='auto',\n",
       "                                                                                               verbose=-10,\n",
       "                                                                                               verbosity=0))],\n",
       "                                                                     verbose=False))],\n",
       "                                               flatten_transform=None,\n",
       "                                               weights=[0.07142857142857142,\n",
       "                                                        0.07142857142857142,\n",
       "                                                        0.07142857142857142,\n",
       "                                                        0.07142857142857142,\n",
       "                                                        0.14285714285714285,\n",
       "                                                        0.07142857142857142,\n",
       "                                                        0.07142857142857142,\n",
       "                                                        0.07142857142857142,\n",
       "                                                        0.07142857142857142,\n",
       "                                                        0.07142857142857142,\n",
       "                                                        0.07142857142857142,\n",
       "                                                        0.14285714285714285]))],\n",
       "         verbose=False)"
      ]
     },
     "execution_count": 21,
     "metadata": {},
     "output_type": "execute_result"
    }
   ],
   "source": [
    "fitted_model"
   ]
  },
  {
   "cell_type": "code",
   "execution_count": 22,
   "metadata": {},
   "outputs": [
    {
     "name": "stdout",
     "output_type": "stream",
     "text": [
      "Best Run Id:  AutoML_6d887152-79c9-442a-a385-9472117cfed6_36\n",
      "\n",
      " Accuracy: 0.7859701492537313\n",
      "PreFittedSoftVotingClassifier(classification_labels=None,\n",
      "                              estimators=[('1',\n",
      "                                           Pipeline(memory=None,\n",
      "                                                    steps=[('maxabsscaler',\n",
      "                                                            MaxAbsScaler(copy=True)),\n",
      "                                                           ('xgboostclassifier',\n",
      "                                                            XGBoostClassifier(base_score=0.5,\n",
      "                                                                              booster='gbtree',\n",
      "                                                                              colsample_bylevel=1,\n",
      "                                                                              colsample_bynode=1,\n",
      "                                                                              colsample_bytree=1,\n",
      "                                                                              gamma=0,\n",
      "                                                                              learning_rate=0.1,\n",
      "                                                                              max_delta_step=0,\n",
      "                                                                              max_depth=3,\n",
      "                                                                              min_child_weight=1,\n",
      "                                                                              miss...\n",
      "                                                                              subsample=0.7,\n",
      "                                                                              tree_method='auto',\n",
      "                                                                              verbose=-10,\n",
      "                                                                              verbosity=0))],\n",
      "                                                    verbose=False))],\n",
      "                              flatten_transform=None,\n",
      "                              weights=[0.07142857142857142, 0.07142857142857142,\n",
      "                                       0.07142857142857142, 0.07142857142857142,\n",
      "                                       0.14285714285714285, 0.07142857142857142,\n",
      "                                       0.07142857142857142, 0.07142857142857142,\n",
      "                                       0.07142857142857142, 0.07142857142857142,\n",
      "                                       0.07142857142857142,\n",
      "                                       0.14285714285714285])\n",
      "{'_aml_system_azureml.automlComponent': 'AutoML', '_aml_system_ComputeTargetStatus': '{\"AllocationState\":\"steady\",\"PreparingNodeCount\":0,\"RunningNodeCount\":2,\"CurrentNodeCount\":4}', 'ensembled_iterations': '[1, 18, 15, 9, 23, 2, 8, 4, 21, 6, 7, 28]', 'ensembled_algorithms': \"['XGBoostClassifier', 'GradientBoosting', 'LogisticRegression', 'GradientBoosting', 'XGBoostClassifier', 'RandomForest', 'XGBoostClassifier', 'RandomForest', 'ExtremeRandomTrees', 'XGBoostClassifier', 'XGBoostClassifier', 'XGBoostClassifier']\", 'ensemble_weights': '[0.07142857142857142, 0.07142857142857142, 0.07142857142857142, 0.07142857142857142, 0.14285714285714285, 0.07142857142857142, 0.07142857142857142, 0.07142857142857142, 0.07142857142857142, 0.07142857142857142, 0.07142857142857142, 0.14285714285714285]', 'best_individual_pipeline_score': '0.7711000552791598', 'best_individual_iteration': '1', '_aml_system_automl_is_child_run_end_telemetry_event_logged': 'True'}\n"
     ]
    }
   ],
   "source": [
    "print('Best Run Id: ', best_run.id)\n",
    "print('\\n Accuracy:', best_run_metrics['accuracy'])\n",
    "print(fitted_model._final_estimator)\n",
    "print(best_run.get_tags())"
   ]
  },
  {
   "cell_type": "code",
   "execution_count": 23,
   "metadata": {
    "gather": {
     "logged": 1598431426111
    },
    "jupyter": {
     "outputs_hidden": false,
     "source_hidden": false
    },
    "nteract": {
     "transient": {
      "deleting": false
     }
    }
   },
   "outputs": [
    {
     "data": {
      "text/plain": [
       "'AutoML6d887152736'"
      ]
     },
     "execution_count": 23,
     "metadata": {},
     "output_type": "execute_result"
    }
   ],
   "source": [
    "#TODO: Save the best model\n",
    "os.makedirs('./outputs', exist_ok=True)\n",
    "\n",
    "joblib.dump(fitted_model, filename='outputs/automl.joblib')\n",
    "\n",
    "model_name = best_run.properties['model_name']\n",
    "model_name"
   ]
  },
  {
   "cell_type": "code",
   "execution_count": 24,
   "metadata": {},
   "outputs": [],
   "source": [
    "env = best_run.get_environment()\n",
    "\n",
    "script_file = 'score.py'\n",
    "\n",
    "best_run.download_file('outputs/scoring_file_v_1_0_0.py', script_file)"
   ]
  },
  {
   "cell_type": "markdown",
   "metadata": {},
   "source": [
    "## Model Deployment\n",
    "\n",
    "Remember you have to deploy only one of the two models you trained.. Perform the steps in the rest of this notebook only if you wish to deploy this model.\n",
    "\n",
    "TODO: In the cell below, register the model, create an inference config and deploy the model as a web service."
   ]
  },
  {
   "cell_type": "code",
   "execution_count": 25,
   "metadata": {
    "gather": {
     "logged": 1598431435189
    },
    "jupyter": {
     "outputs_hidden": false,
     "source_hidden": false
    },
    "nteract": {
     "transient": {
      "deleting": false
     }
    }
   },
   "outputs": [],
   "source": [
    "#Register the fitted model\n",
    "model = remote_run.register_model(model_name = model_name,\n",
    "                                  description = 'AutoML model')"
   ]
  },
  {
   "cell_type": "markdown",
   "metadata": {
    "collapsed": true,
    "gather": {
     "logged": 1598431657736
    },
    "jupyter": {
     "outputs_hidden": false,
     "source_hidden": false
    },
    "nteract": {
     "transient": {
      "deleting": false
     }
    }
   },
   "source": [
    "TODO: In the cell below, send a request to the web service you deployed to test it."
   ]
  },
  {
   "cell_type": "code",
   "execution_count": 26,
   "metadata": {
    "gather": {
     "logged": 1598432707604
    },
    "jupyter": {
     "outputs_hidden": false,
     "source_hidden": false
    },
    "nteract": {
     "transient": {
      "deleting": false
     }
    }
   },
   "outputs": [
    {
     "name": "stdout",
     "output_type": "stream",
     "text": [
      "automl-diabetes\n"
     ]
    }
   ],
   "source": [
    "inference_config = InferenceConfig(entry_script = script_file, environment = env)\n",
    "\n",
    "aci_config = AciWebservice.deploy_configuration(cpu_cores = 1, memory_gb = 1)\n",
    "\n",
    "aci_service_name = 'automl-diabetes'\n",
    "print(aci_service_name)"
   ]
  },
  {
   "cell_type": "code",
   "execution_count": 27,
   "metadata": {},
   "outputs": [
    {
     "name": "stdout",
     "output_type": "stream",
     "text": [
      "Tips: You can try get_logs(): https://aka.ms/debugimage#dockerlog or local deployment: https://aka.ms/debugimage#debug-locally to debug if deployment takes longer than 10 minutes.\n",
      "Running..............................................................\n",
      "Succeeded\n",
      "ACI service creation operation finished, operation \"Succeeded\"\n",
      "State: Healthy\n",
      "Scoring URI: http://41cbb5ad-1b92-4bf3-aead-e134d7a13903.southcentralus.azurecontainer.io/score\n"
     ]
    }
   ],
   "source": [
    "service = Model.deploy(ws, aci_service_name, [model], inference_config, aci_config)\n",
    "service.wait_for_deployment(True)\n",
    "print(\"State: \" + service.state)\n",
    "print(\"Scoring URI: \" + service.scoring_uri)"
   ]
  },
  {
   "cell_type": "markdown",
   "metadata": {},
   "source": [
    "## Testing Runs"
   ]
  },
  {
   "cell_type": "code",
   "execution_count": 29,
   "metadata": {},
   "outputs": [
    {
     "name": "stdout",
     "output_type": "stream",
     "text": [
      "{\"result\": [1, 0]}\n"
     ]
    }
   ],
   "source": [
    "%run endpoint.py"
   ]
  },
  {
   "cell_type": "code",
   "execution_count": 30,
   "metadata": {},
   "outputs": [
    {
     "name": "stdout",
     "output_type": "stream",
     "text": [
      "{\"data\": [{\"Pregnancies\": 1, \"Glucose\": 91, \"BloodPressure\": 64, \"SkinThickness\": 24, \"Insulin\": 0, \"BMI\": 29.2, \"DiabetesPedigreeFunction\": 0.192, \"Age\": 21}, {\"Pregnancies\": 8, \"Glucose\": 110, \"BloodPressure\": 76, \"SkinThickness\": 0, \"Insulin\": 0, \"BMI\": 27.8, \"DiabetesPedigreeFunction\": 0.237, \"Age\": 58}]}\n"
     ]
    }
   ],
   "source": [
    "test_data = test_data.to_pandas_dataframe().dropna()\n",
    "data_sample = test_data.sample(2)\n",
    "y_true = data_sample.pop('Outcome')\n",
    "sample_json = json.dumps({'data':data_sample.to_dict(orient='records')})\n",
    "print(sample_json)"
   ]
  },
  {
   "cell_type": "code",
   "execution_count": 31,
   "metadata": {},
   "outputs": [
    {
     "name": "stdout",
     "output_type": "stream",
     "text": [
      "Prediction:  {\"result\": [0, 0]}\n",
      "True Values:  [0 0]\n"
     ]
    }
   ],
   "source": [
    "output = service.run(sample_json)\n",
    "print('Prediction: ', output)\n",
    "print('True Values: ', y_true.values)"
   ]
  },
  {
   "cell_type": "markdown",
   "metadata": {
    "collapsed": true,
    "gather": {
     "logged": 1598432765711
    },
    "jupyter": {
     "outputs_hidden": false,
     "source_hidden": false
    },
    "nteract": {
     "transient": {
      "deleting": false
     }
    }
   },
   "source": [
    "TODO: In the cell below, print the logs of the web service and delete the service"
   ]
  },
  {
   "cell_type": "code",
   "execution_count": 32,
   "metadata": {
    "jupyter": {
     "outputs_hidden": false,
     "source_hidden": false
    },
    "nteract": {
     "transient": {
      "deleting": false
     }
    }
   },
   "outputs": [
    {
     "data": {
      "text/plain": [
       "'2021-01-27T16:20:03,364633370+00:00 - rsyslog/run \\n2021-01-27T16:20:03,364850272+00:00 - nginx/run \\n2021-01-27T16:20:03,366283484+00:00 - gunicorn/run \\n2021-01-27T16:20:03,365074174+00:00 - iot-server/run \\n/usr/sbin/nginx: /azureml-envs/azureml_265db83b0c6014ce472c5de2f0b97e04/lib/libcrypto.so.1.0.0: no version information available (required by /usr/sbin/nginx)\\n/usr/sbin/nginx: /azureml-envs/azureml_265db83b0c6014ce472c5de2f0b97e04/lib/libcrypto.so.1.0.0: no version information available (required by /usr/sbin/nginx)\\n/usr/sbin/nginx: /azureml-envs/azureml_265db83b0c6014ce472c5de2f0b97e04/lib/libssl.so.1.0.0: no version information available (required by /usr/sbin/nginx)\\n/usr/sbin/nginx: /azureml-envs/azureml_265db83b0c6014ce472c5de2f0b97e04/lib/libssl.so.1.0.0: no version information available (required by /usr/sbin/nginx)\\n/usr/sbin/nginx: /azureml-envs/azureml_265db83b0c6014ce472c5de2f0b97e04/lib/libssl.so.1.0.0: no version information available (required by /usr/sbin/nginx)\\nrsyslogd: /azureml-envs/azureml_265db83b0c6014ce472c5de2f0b97e04/lib/libuuid.so.1: no version information available (required by rsyslogd)\\nEdgeHubConnectionString and IOTEDGE_IOTHUBHOSTNAME are not set. Exiting...\\n2021-01-27T16:20:03,496411333+00:00 - iot-server/finish 1 0\\n2021-01-27T16:20:03,497454843+00:00 - Exit code 1 is normal. Not restarting iot-server.\\nStarting gunicorn 19.9.0\\nListening at: http://127.0.0.1:31311 (12)\\nUsing worker: sync\\nworker timeout is set to 300\\nBooting worker with pid: 42\\nSPARK_HOME not set. Skipping PySpark Initialization.\\nGenerating new fontManager, this may take some time...\\nInitializing logger\\n2021-01-27 16:20:04,888 | root | INFO | Starting up app insights client\\n2021-01-27 16:20:04,888 | root | INFO | Starting up request id generator\\n2021-01-27 16:20:04,888 | root | INFO | Starting up app insight hooks\\n2021-01-27 16:20:04,888 | root | INFO | Invoking user\\'s init function\\n2021-01-27 16:20:07,757 | azureml.core | WARNING | Failure while loading azureml_run_type_providers. Failed to load entrypoint automl = azureml.train.automl.run:AutoMLRun._from_run_dto with exception cannot import name \\'RunType\\'.\\nFailure while loading azureml_run_type_providers. Failed to load entrypoint automl = azureml.train.automl.run:AutoMLRun._from_run_dto with exception cannot import name \\'RunType\\'.\\n2021-01-27 16:20:07,899 | root | INFO | Users\\'s init has completed successfully\\n2021-01-27 16:20:07,902 | root | INFO | Skipping middleware: dbg_model_info as it\\'s not enabled.\\n2021-01-27 16:20:07,902 | root | INFO | Skipping middleware: dbg_resource_usage as it\\'s not enabled.\\n2021-01-27 16:20:07,904 | root | INFO | Scoring timeout is found from os.environ: 60000 ms\\n2021-01-27 16:20:29,143 | root | INFO | 200\\n127.0.0.1 - - [27/Jan/2021:16:20:29 +0000] \"GET /swagger.json HTTP/1.0\" 200 2540 \"-\" \"Go-http-client/1.1\"\\n2021-01-27 16:20:30,781 | root | INFO | 200\\n127.0.0.1 - - [27/Jan/2021:16:20:30 +0000] \"GET /swagger.json HTTP/1.0\" 200 2540 \"-\" \"Go-http-client/1.1\"\\n2021-01-27 16:23:03,839 | root | INFO | Validation Request Content-Type\\n2021-01-27 16:23:03,840 | root | INFO | Scoring Timer is set to 60.0 seconds\\n2021-01-27 16:23:04,060 | root | INFO | 200\\n127.0.0.1 - - [27/Jan/2021:16:23:04 +0000] \"POST /score HTTP/1.0\" 200 22 \"-\" \"python-requests/2.25.1\"\\n2021-01-27 16:23:21,590 | root | INFO | Validation Request Content-Type\\n2021-01-27 16:23:21,591 | root | INFO | Scoring Timer is set to 60.0 seconds\\n2021-01-27 16:23:21,764 | root | INFO | 200\\n127.0.0.1 - - [27/Jan/2021:16:23:21 +0000] \"POST /score HTTP/1.0\" 200 22 \"-\" \"python-requests/2.25.1\"\\n'"
      ]
     },
     "execution_count": 32,
     "metadata": {},
     "output_type": "execute_result"
    }
   ],
   "source": [
    "service.get_logs()"
   ]
  },
  {
   "cell_type": "code",
   "execution_count": 33,
   "metadata": {},
   "outputs": [],
   "source": [
    "service.delete()"
   ]
  },
  {
   "cell_type": "code",
   "execution_count": null,
   "metadata": {},
   "outputs": [],
   "source": []
  }
 ],
 "metadata": {
  "kernel_info": {
   "name": "python3-azureml"
  },
  "kernelspec": {
   "display_name": "Python 3",
   "language": "python",
   "name": "python3"
  },
  "language_info": {
   "codemirror_mode": {
    "name": "ipython",
    "version": 3
   },
   "file_extension": ".py",
   "mimetype": "text/x-python",
   "name": "python",
   "nbconvert_exporter": "python",
   "pygments_lexer": "ipython3",
   "version": "3.6.9"
  },
  "nteract": {
   "version": "nteract-front-end@1.0.0"
  },
  "toc": {
   "base_numbering": 1,
   "nav_menu": {},
   "number_sections": true,
   "sideBar": true,
   "skip_h1_title": false,
   "title_cell": "Table of Contents",
   "title_sidebar": "Contents",
   "toc_cell": false,
   "toc_position": {},
   "toc_section_display": true,
   "toc_window_display": false
  },
  "varInspector": {
   "cols": {
    "lenName": 16,
    "lenType": 16,
    "lenVar": 40
   },
   "kernels_config": {
    "python": {
     "delete_cmd_postfix": "",
     "delete_cmd_prefix": "del ",
     "library": "var_list.py",
     "varRefreshCmd": "print(var_dic_list())"
    },
    "r": {
     "delete_cmd_postfix": ") ",
     "delete_cmd_prefix": "rm(",
     "library": "var_list.r",
     "varRefreshCmd": "cat(var_dic_list()) "
    }
   },
   "types_to_exclude": [
    "module",
    "function",
    "builtin_function_or_method",
    "instance",
    "_Feature"
   ],
   "window_display": false
  }
 },
 "nbformat": 4,
 "nbformat_minor": 2
}
